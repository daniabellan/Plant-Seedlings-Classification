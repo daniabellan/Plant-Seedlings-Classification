{
 "cells": [
  {
   "cell_type": "markdown",
   "metadata": {},
   "source": [
    "## Importar librerías"
   ]
  },
  {
   "cell_type": "code",
   "execution_count": 2,
   "metadata": {},
   "outputs": [],
   "source": [
    "from data_functions import *\n",
    "from model_factory import ConvBlockConfig, create_model_with_configurations\n",
    "from custom_callbacks import get_callbacks\n",
    "import json\n",
    "import numpy as np\n",
    "import matplotlib\n",
    "import seaborn as sns\n",
    "from sklearn.metrics import confusion_matrix"
   ]
  },
  {
   "cell_type": "markdown",
   "metadata": {},
   "source": [
    "## Función de carga de datos.\n",
    "Devuelve las particiones del dataset de train, test y validación"
   ]
  },
  {
   "cell_type": "code",
   "execution_count": 3,
   "metadata": {},
   "outputs": [],
   "source": [
    "def load_data(gray_scale=False, augmenter=False, input_size=(224,224), batch_size=32):\n",
    "    \"\"\"Carga los tres datasets: train, test y valid\n",
    "\n",
    "    Args:\n",
    "        gray_scale (bool, optional): Dataset en escala de gris. Defaults to False.\n",
    "        augmenter (bool, optional): Aumentar dataset en entrenamiento. Defaults to False.\n",
    "        input_size (tuple, optional): Tamaño de entrada. Defaults to (224,224).\n",
    "        batch_size (int, optional): Tamaño del batch. Defaults to 64.\n",
    "\n",
    "    Returns:\n",
    "        _type_: dataset\n",
    "    \"\"\"\n",
    "    # Creates a dictionary mapping image paths to tuples containing class and partition.\n",
    "    dict_dataset = get_dict_dataset()\n",
    "\n",
    "    # Create dataframe\n",
    "    df_dataset = dict2dataframe(dict_dataset)\n",
    "\n",
    "    # Train\n",
    "    df_dataset_train = df_dataset[df_dataset['split'] == 'Train'].drop(columns=['split'])\n",
    "\n",
    "    # Valid\n",
    "    df_dataset_valid = df_dataset[df_dataset['split'] == 'Valid'].drop(columns=['split'])\n",
    "\n",
    "    # Test\n",
    "    df_dataset_test = df_dataset[df_dataset['split'] == 'Test'].drop(columns=['split'])\n",
    "\n",
    "    # Train dataset creation\n",
    "    train_tfdataset = get_dataset(\n",
    "        df=df_dataset_train,\n",
    "        input_size=input_size,\n",
    "        batch_size=batch_size,\n",
    "        shuffle=True,\n",
    "        gray_scale=gray_scale,\n",
    "        augmenter=augmenter,\n",
    "        num_aug=1,\n",
    "    )\n",
    "\n",
    "    # Valid dataset creation\n",
    "    valid_tfdataset = get_dataset(\n",
    "        df=df_dataset_valid,\n",
    "        input_size=input_size,\n",
    "        batch_size=batch_size,\n",
    "        shuffle=True,\n",
    "        gray_scale=gray_scale,\n",
    "        augmenter=augmenter,\n",
    "    )\n",
    "\n",
    "    # Test dataset creation\n",
    "    test_tfdataset = get_dataset(\n",
    "        df=df_dataset_test,\n",
    "        input_size=input_size,\n",
    "        batch_size=batch_size,\n",
    "        gray_scale=gray_scale,\n",
    "        augmenter=augmenter,\n",
    "        test_set=True,\n",
    "    )\n",
    "\n",
    "\n",
    "    # Calculamos los pesos de cada clase debido al desbalanceo de las clases\n",
    "    computed_class_weights = compute_class_weight(class_weight='balanced', \n",
    "                                                  classes=np.unique(df_dataset_train['label'].values),\n",
    "                                                  y=df_dataset_train['label'].values)\n",
    "    class_weights = {idx: item for idx, item in enumerate(computed_class_weights)}\n",
    "\n",
    "    # Num clases\n",
    "    num_classes = df_dataset_train[\"label\"].max() + 1\n",
    "\n",
    "    return train_tfdataset, valid_tfdataset, test_tfdataset, class_weights, num_classes\n"
   ]
  },
  {
   "cell_type": "markdown",
   "metadata": {},
   "source": [
    "## Bucle de entrenamiento\n",
    "En este bucle se carga la factoría de modelos from scratch para ir probando cada uno y guardando sus resultados con los callbacks personalizados. Las configuraciones de los modelos vienen desde el archivo \"scratch_experiments.json\". Estas configuraciones se pasan a la factoría y se crean los modelos."
   ]
  },
  {
   "cell_type": "code",
   "execution_count": 4,
   "metadata": {},
   "outputs": [],
   "source": [
    "def scratch_train(input_shape, experiments_json:str=\"scratch_experiments.json\"):\n",
    "    # Cargar datos\n",
    "    train_tfdataset, valid_tfdataset, test_tfdataset, class_weights, num_classes = load_data()\n",
    "\n",
    "    # Cargar configuraciones desde el archivo JSON\n",
    "    with open(experiments_json, 'r') as file:\n",
    "        experiment_config = json.load(file)\n",
    "\n",
    "    # Crear modelo, compilarlo y entrenarlo\n",
    "    #history_list = []\n",
    "    for experiment_name, config in experiment_config.items():\n",
    "        print(f\"Running Experiment: {experiment_name}\")\n",
    "\n",
    "        # Configurar el modelo utilizando las configuraciones\n",
    "        block_configs = []\n",
    "        for block_conf in config[\"model\"][\"conv_block_configs\"]:\n",
    "            block = ConvBlockConfig(block_conf[\"filters\"], \n",
    "                                    block_conf[\"kernel_size\"], \n",
    "                                    block_conf[\"use_maxpooling\"],\n",
    "                                    block_conf[\"use_batchnorm\"],\n",
    "                                    block_conf[\"dropout_value\"],\n",
    "                                    block_conf[\"name\"])\n",
    "            block_configs.append(block)\n",
    "        \n",
    "        # Crear modelo\n",
    "        model = create_model_with_configurations(block_configs, input_shape, num_classes)\n",
    "        \n",
    "        # Compilar modelo\n",
    "        model.compile(\n",
    "            loss = tf.keras.losses.categorical_crossentropy,\n",
    "            optimizer = tf.keras.optimizers.Adam(0.0001),\n",
    "            metrics = ['acc']) \n",
    "        \n",
    "        # Crear callbacks\n",
    "        callbacks = get_callbacks(experiment_name)\n",
    "\n",
    "        # Mostrar arquitectura\n",
    "        print(model.summary())\n",
    "\n",
    "        # Entrenar modelo\n",
    "        history = model.fit(train_tfdataset.repeat(),\n",
    "                            validation_data=valid_tfdataset,\n",
    "                            class_weight = class_weights,\n",
    "                            epochs = config[\"training\"][\"epochs\"],\n",
    "                            steps_per_epoch=config[\"training\"][\"steps_per_epoch\"],\n",
    "                            callbacks = callbacks,\n",
    "                            verbose=1)\n",
    "        \n",
    "\n",
    "        #history_list.append(history)\n",
    "\n"
   ]
  },
  {
   "cell_type": "markdown",
   "metadata": {},
   "source": [
    "## Lanzar entrenamiento\n",
    "Usando la configuración de los modelos de la factoría, se lanzan todos los experimentos. De esta manera se ejecutan uno detrás de otro sin necesidad de estar pendiente de lanzarlos manualmente."
   ]
  },
  {
   "cell_type": "code",
   "execution_count": 5,
   "metadata": {},
   "outputs": [
    {
     "name": "stdout",
     "output_type": "stream",
     "text": [
      "Number of instances per label: \n",
      "label\n",
      "0     523\n",
      "1     488\n",
      "2     412\n",
      "3     396\n",
      "4     380\n",
      "5     312\n",
      "6     308\n",
      "7     229\n",
      "8     210\n",
      "9     184\n",
      "10    176\n",
      "11    176\n",
      "Name: count, dtype: int64\n",
      "\n",
      "Percentaje of instances per label: \n",
      "label\n",
      "0     0.137849\n",
      "1     0.128624\n",
      "2     0.108593\n",
      "3     0.104375\n",
      "4     0.100158\n",
      "5     0.082235\n",
      "6     0.081181\n",
      "7     0.060358\n",
      "8     0.055351\n",
      "9     0.048498\n",
      "10    0.046389\n",
      "11    0.046389\n",
      "Name: count, dtype: float64\n"
     ]
    },
    {
     "name": "stderr",
     "output_type": "stream",
     "text": [
      "2023-11-22 09:47:52.611296: I tensorflow/compiler/xla/stream_executor/cuda/cuda_gpu_executor.cc:880] could not open file to read NUMA node: /sys/bus/pci/devices/0000:06:00.0/numa_node\n",
      "Your kernel may have been built without NUMA support.\n",
      "2023-11-22 09:47:52.649197: I tensorflow/compiler/xla/stream_executor/cuda/cuda_gpu_executor.cc:880] could not open file to read NUMA node: /sys/bus/pci/devices/0000:06:00.0/numa_node\n",
      "Your kernel may have been built without NUMA support.\n",
      "2023-11-22 09:47:52.649458: I tensorflow/compiler/xla/stream_executor/cuda/cuda_gpu_executor.cc:880] could not open file to read NUMA node: /sys/bus/pci/devices/0000:06:00.0/numa_node\n",
      "Your kernel may have been built without NUMA support.\n",
      "2023-11-22 09:47:52.652728: I tensorflow/compiler/xla/stream_executor/cuda/cuda_gpu_executor.cc:880] could not open file to read NUMA node: /sys/bus/pci/devices/0000:06:00.0/numa_node\n",
      "Your kernel may have been built without NUMA support.\n",
      "2023-11-22 09:47:52.653060: I tensorflow/compiler/xla/stream_executor/cuda/cuda_gpu_executor.cc:880] could not open file to read NUMA node: /sys/bus/pci/devices/0000:06:00.0/numa_node\n",
      "Your kernel may have been built without NUMA support.\n",
      "2023-11-22 09:47:52.653294: I tensorflow/compiler/xla/stream_executor/cuda/cuda_gpu_executor.cc:880] could not open file to read NUMA node: /sys/bus/pci/devices/0000:06:00.0/numa_node\n",
      "Your kernel may have been built without NUMA support.\n",
      "2023-11-22 09:47:52.959194: I tensorflow/compiler/xla/stream_executor/cuda/cuda_gpu_executor.cc:880] could not open file to read NUMA node: /sys/bus/pci/devices/0000:06:00.0/numa_node\n",
      "Your kernel may have been built without NUMA support.\n",
      "2023-11-22 09:47:52.959378: I tensorflow/compiler/xla/stream_executor/cuda/cuda_gpu_executor.cc:880] could not open file to read NUMA node: /sys/bus/pci/devices/0000:06:00.0/numa_node\n",
      "Your kernel may have been built without NUMA support.\n",
      "2023-11-22 09:47:52.959389: I tensorflow/core/common_runtime/gpu/gpu_device.cc:1977] Could not identify NUMA node of platform GPU id 0, defaulting to 0.  Your kernel may not have been built with NUMA support.\n",
      "2023-11-22 09:47:52.959558: I tensorflow/compiler/xla/stream_executor/cuda/cuda_gpu_executor.cc:880] could not open file to read NUMA node: /sys/bus/pci/devices/0000:06:00.0/numa_node\n",
      "Your kernel may have been built without NUMA support.\n",
      "2023-11-22 09:47:52.959579: I tensorflow/core/common_runtime/gpu/gpu_device.cc:1886] Created device /job:localhost/replica:0/task:0/device:GPU:0 with 7551 MB memory:  -> device: 0, name: NVIDIA GeForce RTX 3080, pci bus id: 0000:06:00.0, compute capability: 8.6\n"
     ]
    },
    {
     "name": "stdout",
     "output_type": "stream",
     "text": [
      " > Shuffle\n",
      " > Establecemos el batchsize\n",
      "Number of instances per label: \n",
      "label\n",
      "0     131\n",
      "1     123\n",
      "2     104\n",
      "3     100\n",
      "4      95\n",
      "5      78\n",
      "6      77\n",
      "7      58\n",
      "8      53\n",
      "9      47\n",
      "11     45\n",
      "10     45\n",
      "Name: count, dtype: int64\n",
      "\n",
      "Percentaje of instances per label: \n",
      "label\n",
      "0     0.137029\n",
      "1     0.128661\n",
      "2     0.108787\n",
      "3     0.104603\n",
      "4     0.099372\n",
      "5     0.081590\n",
      "6     0.080544\n",
      "7     0.060669\n",
      "8     0.055439\n",
      "9     0.049163\n",
      "11    0.047071\n",
      "10    0.047071\n",
      "Name: count, dtype: float64\n",
      " > Shuffle\n",
      " > Establecemos el batchsize\n",
      "Number of instances per label: \n",
      "label\n",
      "Unkown    794\n",
      "Name: count, dtype: int64\n",
      "\n",
      "Percentaje of instances per label: \n",
      "label\n",
      "Unkown    1.0\n",
      "Name: count, dtype: float64\n",
      " > Establecemos el batchsize\n",
      "Running Experiment: model1\n",
      "Model: \"sequential\"\n",
      "_________________________________________________________________\n",
      " Layer (type)                Output Shape              Param #   \n",
      "=================================================================\n",
      " block1 (Sequential)         (None, 112, 112, 64)      2048      \n",
      "                                                                 \n",
      " block2 (Sequential)         (None, 56, 56, 128)       74368     \n",
      "                                                                 \n",
      " block3 (Sequential)         (None, 28, 28, 256)       296192    \n",
      "                                                                 \n",
      " top_model_flatten (Flatten  (None, 200704)            0         \n",
      " )                                                               \n",
      "                                                                 \n",
      " top_model_dense_1 (Dense)   (None, 128)               25690240  \n",
      "                                                                 \n",
      " top_model_output (Dense)    (None, 12)                1548      \n",
      "                                                                 \n",
      "=================================================================\n",
      "Total params: 26064396 (99.43 MB)\n",
      "Trainable params: 26063500 (99.42 MB)\n",
      "Non-trainable params: 896 (3.50 KB)\n",
      "_________________________________________________________________\n",
      "None\n",
      "Epoch 1/50\n"
     ]
    },
    {
     "name": "stderr",
     "output_type": "stream",
     "text": [
      "2023-11-22 09:47:54.504920: E tensorflow/core/grappler/optimizers/meta_optimizer.cc:961] layout failed: INVALID_ARGUMENT: Size of values 0 does not match size of permutation 4 @ fanin shape insequential/block1/dropout/dropout/SelectV2-2-TransposeNHWCToNCHW-LayoutOptimizer\n",
      "2023-11-22 09:47:54.987519: I tensorflow/compiler/xla/stream_executor/cuda/cuda_dnn.cc:442] Loaded cuDNN version 8700\n",
      "2023-11-22 09:47:55.464835: I tensorflow/tsl/platform/default/subprocess.cc:304] Start cannot spawn child process: No such file or directory\n",
      "2023-11-22 09:47:56.107108: I tensorflow/tsl/platform/default/subprocess.cc:304] Start cannot spawn child process: No such file or directory\n",
      "2023-11-22 09:47:57.037578: I tensorflow/compiler/xla/service/service.cc:168] XLA service 0x9b13c40 initialized for platform CUDA (this does not guarantee that XLA will be used). Devices:\n",
      "2023-11-22 09:47:57.037620: I tensorflow/compiler/xla/service/service.cc:176]   StreamExecutor device (0): NVIDIA GeForce RTX 3080, Compute Capability 8.6\n",
      "2023-11-22 09:47:57.059477: I tensorflow/compiler/mlir/tensorflow/utils/dump_mlir_util.cc:269] disabling MLIR crash reproducer, set env var `MLIR_CRASH_REPRODUCER_DIRECTORY` to enable.\n",
      "2023-11-22 09:47:57.209486: I ./tensorflow/compiler/jit/device_compiler.h:186] Compiled cluster using XLA!  This line is logged at most once for the lifetime of the process.\n"
     ]
    },
    {
     "name": "stdout",
     "output_type": "stream",
     "text": [
      " 6/32 [====>.........................] - ETA: 2s - loss: 11.6649 - acc: 0.1250WARNING:tensorflow:Callback method `on_train_batch_end` is slow compared to the batch time (batch time: 0.0329s vs `on_train_batch_end` time: 0.0528s). Check your callbacks.\n",
      "32/32 [==============================] - ETA: 0s - loss: 4.8663 - acc: 0.1553\n",
      "Epoch 1: val_loss improved from inf to 14.95988, saving model to models/model1\n",
      "INFO:tensorflow:Assets written to: models/model1/assets\n"
     ]
    },
    {
     "name": "stderr",
     "output_type": "stream",
     "text": [
      "INFO:tensorflow:Assets written to: models/model1/assets\n"
     ]
    },
    {
     "name": "stdout",
     "output_type": "stream",
     "text": [
      "32/32 [==============================] - 20s 420ms/step - loss: 4.8663 - acc: 0.1553 - val_loss: 14.9599 - val_acc: 0.0994\n",
      "Epoch 2/50\n",
      "32/32 [==============================] - ETA: 0s - loss: 2.1300 - acc: 0.2393\n",
      "Epoch 2: val_loss did not improve from 14.95988\n",
      "32/32 [==============================] - 11s 355ms/step - loss: 2.1300 - acc: 0.2393 - val_loss: 27.5475 - val_acc: 0.0994\n",
      "Epoch 3/50\n",
      "32/32 [==============================] - ETA: 0s - loss: 1.9813 - acc: 0.2959\n",
      "Epoch 3: val_loss did not improve from 14.95988\n",
      "32/32 [==============================] - 10s 324ms/step - loss: 1.9813 - acc: 0.2959 - val_loss: 35.7515 - val_acc: 0.0994\n",
      "Epoch 4/50\n",
      "32/32 [==============================] - ETA: 0s - loss: 1.8136 - acc: 0.3564\n",
      "Epoch 4: val_loss did not improve from 14.95988\n",
      "32/32 [==============================] - 9s 269ms/step - loss: 1.8136 - acc: 0.3564 - val_loss: 42.4104 - val_acc: 0.0994\n",
      "Epoch 5/50\n",
      "32/32 [==============================] - ETA: 0s - loss: 1.6283 - acc: 0.4111\n",
      "Epoch 5: val_loss did not improve from 14.95988\n",
      "32/32 [==============================] - 9s 289ms/step - loss: 1.6283 - acc: 0.4111 - val_loss: 45.0249 - val_acc: 0.0994\n",
      "Epoch 6/50\n",
      "32/32 [==============================] - ETA: 0s - loss: 1.5474 - acc: 0.4307\n",
      "Epoch 6: val_loss did not improve from 14.95988\n",
      "32/32 [==============================] - 9s 290ms/step - loss: 1.5474 - acc: 0.4307 - val_loss: 44.5587 - val_acc: 0.0994\n",
      "Epoch 7/50\n",
      "32/32 [==============================] - ETA: 0s - loss: 1.5363 - acc: 0.4482\n",
      "Epoch 7: val_loss did not improve from 14.95988\n",
      "32/32 [==============================] - 8s 266ms/step - loss: 1.5363 - acc: 0.4482 - val_loss: 45.7843 - val_acc: 0.0994\n",
      "Epoch 8/50\n",
      "32/32 [==============================] - ETA: 0s - loss: 1.3349 - acc: 0.5287\n",
      "Epoch 8: val_loss did not improve from 14.95988\n",
      "32/32 [==============================] - 9s 282ms/step - loss: 1.3349 - acc: 0.5287 - val_loss: 36.9910 - val_acc: 0.0994\n",
      "Epoch 9/50\n",
      "32/32 [==============================] - ETA: 0s - loss: 1.1483 - acc: 0.5957\n",
      "Epoch 9: val_loss did not improve from 14.95988\n",
      "32/32 [==============================] - 9s 289ms/step - loss: 1.1483 - acc: 0.5957 - val_loss: 29.0841 - val_acc: 0.0994\n",
      "Epoch 10/50\n",
      "32/32 [==============================] - ETA: 0s - loss: 1.1092 - acc: 0.5879\n",
      "Epoch 10: val_loss did not improve from 14.95988\n",
      "32/32 [==============================] - 9s 275ms/step - loss: 1.1092 - acc: 0.5879 - val_loss: 21.4135 - val_acc: 0.0994\n",
      "Epoch 11/50\n",
      "32/32 [==============================] - ETA: 0s - loss: 1.1883 - acc: 0.5889\n",
      "Epoch 11: val_loss improved from 14.95988 to 12.16850, saving model to models/model1\n",
      "INFO:tensorflow:Assets written to: models/model1/assets\n"
     ]
    },
    {
     "name": "stderr",
     "output_type": "stream",
     "text": [
      "INFO:tensorflow:Assets written to: models/model1/assets\n"
     ]
    },
    {
     "name": "stdout",
     "output_type": "stream",
     "text": [
      "32/32 [==============================] - 10s 313ms/step - loss: 1.1883 - acc: 0.5889 - val_loss: 12.1685 - val_acc: 0.0994\n",
      "Epoch 12/50\n",
      "32/32 [==============================] - ETA: 0s - loss: 0.9640 - acc: 0.6436\n",
      "Epoch 12: val_loss improved from 12.16850 to 6.23652, saving model to models/model1\n",
      "INFO:tensorflow:Assets written to: models/model1/assets\n"
     ]
    },
    {
     "name": "stderr",
     "output_type": "stream",
     "text": [
      "INFO:tensorflow:Assets written to: models/model1/assets\n"
     ]
    },
    {
     "name": "stdout",
     "output_type": "stream",
     "text": [
      "32/32 [==============================] - 12s 377ms/step - loss: 0.9640 - acc: 0.6436 - val_loss: 6.2365 - val_acc: 0.1098\n",
      "Epoch 13/50\n",
      "32/32 [==============================] - ETA: 0s - loss: 0.8240 - acc: 0.6816\n",
      "Epoch 13: val_loss improved from 6.23652 to 5.81908, saving model to models/model1\n",
      "INFO:tensorflow:Assets written to: models/model1/assets\n"
     ]
    },
    {
     "name": "stderr",
     "output_type": "stream",
     "text": [
      "INFO:tensorflow:Assets written to: models/model1/assets\n"
     ]
    },
    {
     "name": "stdout",
     "output_type": "stream",
     "text": [
      "32/32 [==============================] - 11s 358ms/step - loss: 0.8240 - acc: 0.6816 - val_loss: 5.8191 - val_acc: 0.1287\n",
      "Epoch 14/50\n",
      "32/32 [==============================] - ETA: 0s - loss: 0.7216 - acc: 0.7412\n",
      "Epoch 14: val_loss did not improve from 5.81908\n",
      "32/32 [==============================] - 9s 281ms/step - loss: 0.7216 - acc: 0.7412 - val_loss: 7.4531 - val_acc: 0.1674\n",
      "Epoch 15/50\n",
      "32/32 [==============================] - ETA: 0s - loss: 0.8041 - acc: 0.7069\n",
      "Epoch 15: val_loss improved from 5.81908 to 4.16415, saving model to models/model1\n",
      "INFO:tensorflow:Assets written to: models/model1/assets\n"
     ]
    },
    {
     "name": "stderr",
     "output_type": "stream",
     "text": [
      "INFO:tensorflow:Assets written to: models/model1/assets\n"
     ]
    },
    {
     "name": "stdout",
     "output_type": "stream",
     "text": [
      "32/32 [==============================] - 10s 317ms/step - loss: 0.8041 - acc: 0.7069 - val_loss: 4.1641 - val_acc: 0.2406\n",
      "Epoch 16/50\n",
      "32/32 [==============================] - ETA: 0s - loss: 0.5880 - acc: 0.7891\n",
      "Epoch 16: val_loss improved from 4.16415 to 3.63478, saving model to models/model1\n",
      "INFO:tensorflow:Assets written to: models/model1/assets\n"
     ]
    },
    {
     "name": "stderr",
     "output_type": "stream",
     "text": [
      "INFO:tensorflow:Assets written to: models/model1/assets\n"
     ]
    },
    {
     "name": "stdout",
     "output_type": "stream",
     "text": [
      "32/32 [==============================] - 11s 336ms/step - loss: 0.5880 - acc: 0.7891 - val_loss: 3.6348 - val_acc: 0.2479\n",
      "Epoch 17/50\n",
      "32/32 [==============================] - ETA: 0s - loss: 0.6000 - acc: 0.8047\n",
      "Epoch 17: val_loss improved from 3.63478 to 2.47159, saving model to models/model1\n",
      "INFO:tensorflow:Assets written to: models/model1/assets\n"
     ]
    },
    {
     "name": "stderr",
     "output_type": "stream",
     "text": [
      "INFO:tensorflow:Assets written to: models/model1/assets\n"
     ]
    },
    {
     "name": "stdout",
     "output_type": "stream",
     "text": [
      "32/32 [==============================] - 11s 346ms/step - loss: 0.6000 - acc: 0.8047 - val_loss: 2.4716 - val_acc: 0.4090\n",
      "Epoch 18/50\n",
      "32/32 [==============================] - ETA: 0s - loss: 0.4879 - acc: 0.8320\n",
      "Epoch 18: val_loss improved from 2.47159 to 2.14028, saving model to models/model1\n",
      "INFO:tensorflow:Assets written to: models/model1/assets\n"
     ]
    },
    {
     "name": "stderr",
     "output_type": "stream",
     "text": [
      "INFO:tensorflow:Assets written to: models/model1/assets\n"
     ]
    },
    {
     "name": "stdout",
     "output_type": "stream",
     "text": [
      "32/32 [==============================] - 11s 351ms/step - loss: 0.4879 - acc: 0.8320 - val_loss: 2.1403 - val_acc: 0.4195\n",
      "Epoch 19/50\n",
      "32/32 [==============================] - ETA: 0s - loss: 0.4485 - acc: 0.8356\n",
      "Epoch 19: val_loss improved from 2.14028 to 1.85213, saving model to models/model1\n",
      "INFO:tensorflow:Assets written to: models/model1/assets\n"
     ]
    },
    {
     "name": "stderr",
     "output_type": "stream",
     "text": [
      "INFO:tensorflow:Assets written to: models/model1/assets\n"
     ]
    },
    {
     "name": "stdout",
     "output_type": "stream",
     "text": [
      "32/32 [==============================] - 11s 330ms/step - loss: 0.4485 - acc: 0.8356 - val_loss: 1.8521 - val_acc: 0.5397\n",
      "Epoch 20/50\n",
      "32/32 [==============================] - ETA: 0s - loss: 0.3248 - acc: 0.8916\n",
      "Epoch 20: val_loss improved from 1.85213 to 1.56314, saving model to models/model1\n",
      "INFO:tensorflow:Assets written to: models/model1/assets\n"
     ]
    },
    {
     "name": "stderr",
     "output_type": "stream",
     "text": [
      "INFO:tensorflow:Assets written to: models/model1/assets\n"
     ]
    },
    {
     "name": "stdout",
     "output_type": "stream",
     "text": [
      "32/32 [==============================] - 11s 351ms/step - loss: 0.3248 - acc: 0.8916 - val_loss: 1.5631 - val_acc: 0.6046\n",
      "Epoch 21/50\n",
      "32/32 [==============================] - ETA: 0s - loss: 0.3620 - acc: 0.8936\n",
      "Epoch 21: val_loss improved from 1.56314 to 1.29433, saving model to models/model1\n",
      "INFO:tensorflow:Assets written to: models/model1/assets\n"
     ]
    },
    {
     "name": "stderr",
     "output_type": "stream",
     "text": [
      "INFO:tensorflow:Assets written to: models/model1/assets\n"
     ]
    },
    {
     "name": "stdout",
     "output_type": "stream",
     "text": [
      "32/32 [==============================] - 11s 352ms/step - loss: 0.3620 - acc: 0.8936 - val_loss: 1.2943 - val_acc: 0.6559\n",
      "Epoch 22/50\n",
      "32/32 [==============================] - ETA: 0s - loss: 0.2989 - acc: 0.9004\n",
      "Epoch 22: val_loss did not improve from 1.29433\n",
      "32/32 [==============================] - 8s 250ms/step - loss: 0.2989 - acc: 0.9004 - val_loss: 1.3529 - val_acc: 0.6579\n",
      "Epoch 23/50\n",
      "32/32 [==============================] - ETA: 0s - loss: 0.2270 - acc: 0.9168\n",
      "Epoch 23: val_loss improved from 1.29433 to 1.23028, saving model to models/model1\n",
      "INFO:tensorflow:Assets written to: models/model1/assets\n"
     ]
    },
    {
     "name": "stderr",
     "output_type": "stream",
     "text": [
      "INFO:tensorflow:Assets written to: models/model1/assets\n"
     ]
    },
    {
     "name": "stdout",
     "output_type": "stream",
     "text": [
      "32/32 [==============================] - 10s 326ms/step - loss: 0.2270 - acc: 0.9168 - val_loss: 1.2303 - val_acc: 0.6768\n",
      "Epoch 24/50\n",
      "32/32 [==============================] - ETA: 0s - loss: 0.1928 - acc: 0.9365\n",
      "Epoch 24: val_loss improved from 1.23028 to 1.16386, saving model to models/model1\n",
      "INFO:tensorflow:Assets written to: models/model1/assets\n"
     ]
    },
    {
     "name": "stderr",
     "output_type": "stream",
     "text": [
      "INFO:tensorflow:Assets written to: models/model1/assets\n"
     ]
    },
    {
     "name": "stdout",
     "output_type": "stream",
     "text": [
      "32/32 [==============================] - 12s 388ms/step - loss: 0.1928 - acc: 0.9365 - val_loss: 1.1639 - val_acc: 0.6778\n",
      "Epoch 25/50\n",
      "32/32 [==============================] - ETA: 0s - loss: 0.2250 - acc: 0.9268\n",
      "Epoch 25: val_loss did not improve from 1.16386\n",
      "32/32 [==============================] - 9s 282ms/step - loss: 0.2250 - acc: 0.9268 - val_loss: 1.2451 - val_acc: 0.6695\n",
      "Epoch 26/50\n",
      "32/32 [==============================] - ETA: 0s - loss: 0.2452 - acc: 0.9199\n",
      "Epoch 26: val_loss improved from 1.16386 to 1.11268, saving model to models/model1\n",
      "INFO:tensorflow:Assets written to: models/model1/assets\n"
     ]
    },
    {
     "name": "stderr",
     "output_type": "stream",
     "text": [
      "INFO:tensorflow:Assets written to: models/model1/assets\n"
     ]
    },
    {
     "name": "stdout",
     "output_type": "stream",
     "text": [
      "32/32 [==============================] - 10s 325ms/step - loss: 0.2452 - acc: 0.9199 - val_loss: 1.1127 - val_acc: 0.6851\n",
      "Epoch 27/50\n",
      "32/32 [==============================] - ETA: 0s - loss: 0.2072 - acc: 0.9455\n",
      "Epoch 27: val_loss did not improve from 1.11268\n",
      "32/32 [==============================] - 9s 282ms/step - loss: 0.2072 - acc: 0.9455 - val_loss: 1.1351 - val_acc: 0.6925\n",
      "Epoch 28/50\n",
      "32/32 [==============================] - ETA: 0s - loss: 0.1711 - acc: 0.9541\n",
      "Epoch 28: val_loss did not improve from 1.11268\n",
      "32/32 [==============================] - 9s 293ms/step - loss: 0.1711 - acc: 0.9541 - val_loss: 1.1138 - val_acc: 0.7061\n",
      "Epoch 29/50\n",
      "32/32 [==============================] - ETA: 0s - loss: 0.1321 - acc: 0.9590\n",
      "Epoch 29: val_loss did not improve from 1.11268\n",
      "32/32 [==============================] - 9s 282ms/step - loss: 0.1321 - acc: 0.9590 - val_loss: 1.2095 - val_acc: 0.6977\n",
      "Epoch 30/50\n",
      "32/32 [==============================] - ETA: 0s - loss: 0.1450 - acc: 0.9594\n",
      "Epoch 30: val_loss improved from 1.11268 to 1.08448, saving model to models/model1\n",
      "INFO:tensorflow:Assets written to: models/model1/assets\n"
     ]
    },
    {
     "name": "stderr",
     "output_type": "stream",
     "text": [
      "INFO:tensorflow:Assets written to: models/model1/assets\n"
     ]
    },
    {
     "name": "stdout",
     "output_type": "stream",
     "text": [
      "32/32 [==============================] - 10s 327ms/step - loss: 0.1450 - acc: 0.9594 - val_loss: 1.0845 - val_acc: 0.7040\n",
      "Epoch 31/50\n",
      "32/32 [==============================] - ETA: 0s - loss: 0.1023 - acc: 0.9697\n",
      "Epoch 31: val_loss improved from 1.08448 to 1.08398, saving model to models/model1\n",
      "INFO:tensorflow:Assets written to: models/model1/assets\n"
     ]
    },
    {
     "name": "stderr",
     "output_type": "stream",
     "text": [
      "INFO:tensorflow:Assets written to: models/model1/assets\n"
     ]
    },
    {
     "name": "stdout",
     "output_type": "stream",
     "text": [
      "32/32 [==============================] - 11s 333ms/step - loss: 0.1023 - acc: 0.9697 - val_loss: 1.0840 - val_acc: 0.7207\n",
      "Epoch 32/50\n",
      "32/32 [==============================] - ETA: 0s - loss: 0.1033 - acc: 0.9727\n",
      "Epoch 32: val_loss did not improve from 1.08398\n",
      "32/32 [==============================] - 10s 314ms/step - loss: 0.1033 - acc: 0.9727 - val_loss: 1.1655 - val_acc: 0.7040\n",
      "Epoch 33/50\n",
      "32/32 [==============================] - ETA: 0s - loss: 0.0981 - acc: 0.9736\n",
      "Epoch 33: val_loss did not improve from 1.08398\n",
      "32/32 [==============================] - 8s 256ms/step - loss: 0.0981 - acc: 0.9736 - val_loss: 1.2600 - val_acc: 0.6946\n",
      "Epoch 34/50\n",
      "32/32 [==============================] - ETA: 0s - loss: 0.0913 - acc: 0.9802\n",
      "Epoch 34: val_loss did not improve from 1.08398\n",
      "32/32 [==============================] - 9s 272ms/step - loss: 0.0913 - acc: 0.9802 - val_loss: 1.1155 - val_acc: 0.7123\n",
      "Epoch 35/50\n",
      "32/32 [==============================] - ETA: 0s - loss: 0.0915 - acc: 0.9766\n",
      "Epoch 35: val_loss did not improve from 1.08398\n",
      "32/32 [==============================] - 9s 296ms/step - loss: 0.0915 - acc: 0.9766 - val_loss: 1.1519 - val_acc: 0.7333\n",
      "Epoch 36/50\n",
      "32/32 [==============================] - ETA: 0s - loss: 0.0849 - acc: 0.9805\n",
      "Epoch 36: val_loss did not improve from 1.08398\n",
      "32/32 [==============================] - 9s 282ms/step - loss: 0.0849 - acc: 0.9805 - val_loss: 1.2003 - val_acc: 0.7197\n",
      "Epoch 37/50\n",
      "32/32 [==============================] - ETA: 0s - loss: 0.0719 - acc: 0.9834\n",
      "Epoch 37: val_loss did not improve from 1.08398\n",
      "32/32 [==============================] - 8s 265ms/step - loss: 0.0719 - acc: 0.9834 - val_loss: 1.2311 - val_acc: 0.7082\n",
      "Epoch 38/50\n",
      "32/32 [==============================] - ETA: 0s - loss: 0.0582 - acc: 0.9851\n",
      "Epoch 38: val_loss improved from 1.08398 to 1.07766, saving model to models/model1\n",
      "INFO:tensorflow:Assets written to: models/model1/assets\n"
     ]
    },
    {
     "name": "stderr",
     "output_type": "stream",
     "text": [
      "INFO:tensorflow:Assets written to: models/model1/assets\n"
     ]
    },
    {
     "name": "stdout",
     "output_type": "stream",
     "text": [
      "32/32 [==============================] - 12s 375ms/step - loss: 0.0582 - acc: 0.9851 - val_loss: 1.0777 - val_acc: 0.7364\n",
      "Epoch 39/50\n",
      "32/32 [==============================] - ETA: 0s - loss: 0.0360 - acc: 0.9941\n",
      "Epoch 39: val_loss did not improve from 1.07766\n",
      "32/32 [==============================] - 9s 284ms/step - loss: 0.0360 - acc: 0.9941 - val_loss: 1.0966 - val_acc: 0.7249\n",
      "Epoch 40/50\n",
      "32/32 [==============================] - ETA: 0s - loss: 0.0630 - acc: 0.9834\n",
      "Epoch 40: val_loss improved from 1.07766 to 1.07416, saving model to models/model1\n",
      "INFO:tensorflow:Assets written to: models/model1/assets\n"
     ]
    },
    {
     "name": "stderr",
     "output_type": "stream",
     "text": [
      "INFO:tensorflow:Assets written to: models/model1/assets\n"
     ]
    },
    {
     "name": "stdout",
     "output_type": "stream",
     "text": [
      "32/32 [==============================] - 12s 371ms/step - loss: 0.0630 - acc: 0.9834 - val_loss: 1.0742 - val_acc: 0.7364\n",
      "Epoch 41/50\n",
      "32/32 [==============================] - ETA: 0s - loss: 0.0617 - acc: 0.9842\n",
      "Epoch 41: val_loss did not improve from 1.07416\n",
      "32/32 [==============================] - 8s 247ms/step - loss: 0.0617 - acc: 0.9842 - val_loss: 1.0848 - val_acc: 0.7374\n",
      "Epoch 42/50\n",
      "32/32 [==============================] - ETA: 0s - loss: 0.0335 - acc: 0.9922\n",
      "Epoch 42: val_loss did not improve from 1.07416\n",
      "32/32 [==============================] - 9s 273ms/step - loss: 0.0335 - acc: 0.9922 - val_loss: 1.1192 - val_acc: 0.7490\n",
      "Epoch 43/50\n",
      "32/32 [==============================] - ETA: 0s - loss: 0.0396 - acc: 0.9912\n",
      "Epoch 43: val_loss did not improve from 1.07416\n",
      "32/32 [==============================] - 9s 285ms/step - loss: 0.0396 - acc: 0.9912 - val_loss: 1.1408 - val_acc: 0.7416\n",
      "Epoch 44/50\n",
      "32/32 [==============================] - ETA: 0s - loss: 0.0370 - acc: 0.9932\n",
      "Epoch 44: val_loss improved from 1.07416 to 1.00902, saving model to models/model1\n",
      "INFO:tensorflow:Assets written to: models/model1/assets\n"
     ]
    },
    {
     "name": "stderr",
     "output_type": "stream",
     "text": [
      "INFO:tensorflow:Assets written to: models/model1/assets\n"
     ]
    },
    {
     "name": "stdout",
     "output_type": "stream",
     "text": [
      "32/32 [==============================] - 11s 353ms/step - loss: 0.0370 - acc: 0.9932 - val_loss: 1.0090 - val_acc: 0.7531\n",
      "Epoch 45/50\n",
      "32/32 [==============================] - ETA: 0s - loss: 0.0352 - acc: 0.9950\n",
      "Epoch 45: val_loss did not improve from 1.00902\n",
      "32/32 [==============================] - 8s 261ms/step - loss: 0.0352 - acc: 0.9950 - val_loss: 1.1067 - val_acc: 0.7510\n",
      "Epoch 46/50\n",
      "32/32 [==============================] - ETA: 0s - loss: 0.0261 - acc: 0.9951\n",
      "Epoch 46: val_loss did not improve from 1.00902\n",
      "32/32 [==============================] - 10s 322ms/step - loss: 0.0261 - acc: 0.9951 - val_loss: 1.1390 - val_acc: 0.7406\n",
      "Epoch 47/50\n",
      "32/32 [==============================] - ETA: 0s - loss: 0.0340 - acc: 0.9932\n",
      "Epoch 47: val_loss did not improve from 1.00902\n",
      "32/32 [==============================] - 9s 279ms/step - loss: 0.0340 - acc: 0.9932 - val_loss: 1.0745 - val_acc: 0.7584\n",
      "Epoch 48/50\n",
      "32/32 [==============================] - ETA: 0s - loss: 0.0213 - acc: 0.9951\n",
      "Epoch 48: val_loss did not improve from 1.00902\n",
      "32/32 [==============================] - 8s 268ms/step - loss: 0.0213 - acc: 0.9951 - val_loss: 1.0902 - val_acc: 0.7500\n",
      "Epoch 49/50\n",
      "32/32 [==============================] - ETA: 0s - loss: 0.0204 - acc: 0.9950\n",
      "Epoch 49: val_loss did not improve from 1.00902\n",
      "32/32 [==============================] - 9s 273ms/step - loss: 0.0204 - acc: 0.9950 - val_loss: 1.1017 - val_acc: 0.7573\n",
      "Epoch 50/50\n",
      "32/32 [==============================] - ETA: 0s - loss: 0.0091 - acc: 0.9990\n",
      "Epoch 50: val_loss did not improve from 1.00902\n",
      "32/32 [==============================] - 10s 311ms/step - loss: 0.0091 - acc: 0.9990 - val_loss: 1.1099 - val_acc: 0.7573\n",
      "Running Experiment: model1_nobatchnorm\n",
      "Model: \"sequential_1\"\n",
      "_________________________________________________________________\n",
      " Layer (type)                Output Shape              Param #   \n",
      "=================================================================\n",
      " block1 (Sequential)         (None, 112, 112, 64)      1792      \n",
      "                                                                 \n",
      " block2 (Sequential)         (None, 56, 56, 128)       73856     \n",
      "                                                                 \n",
      " block3 (Sequential)         (None, 28, 28, 256)       295168    \n",
      "                                                                 \n",
      " top_model_flatten (Flatten  (None, 200704)            0         \n",
      " )                                                               \n",
      "                                                                 \n",
      " top_model_dense_1 (Dense)   (None, 128)               25690240  \n",
      "                                                                 \n",
      " top_model_output (Dense)    (None, 12)                1548      \n",
      "                                                                 \n",
      "=================================================================\n",
      "Total params: 26062604 (99.42 MB)\n",
      "Trainable params: 26062604 (99.42 MB)\n",
      "Non-trainable params: 0 (0.00 Byte)\n",
      "_________________________________________________________________\n",
      "None\n",
      "Epoch 1/50\n"
     ]
    },
    {
     "name": "stderr",
     "output_type": "stream",
     "text": [
      "2023-11-22 09:56:10.007965: E tensorflow/core/grappler/optimizers/meta_optimizer.cc:961] layout failed: INVALID_ARGUMENT: Size of values 0 does not match size of permutation 4 @ fanin shape insequential_1/block1/dropout_3/dropout/SelectV2-2-TransposeNHWCToNCHW-LayoutOptimizer\n"
     ]
    },
    {
     "name": "stdout",
     "output_type": "stream",
     "text": [
      " 6/32 [====>.........................] - ETA: 2s - loss: 2.6616 - acc: 0.0625WARNING:tensorflow:Callback method `on_train_batch_end` is slow compared to the batch time (batch time: 0.0328s vs `on_train_batch_end` time: 0.0522s). Check your callbacks.\n"
     ]
    },
    {
     "name": "stderr",
     "output_type": "stream",
     "text": [
      "WARNING:tensorflow:Callback method `on_train_batch_end` is slow compared to the batch time (batch time: 0.0328s vs `on_train_batch_end` time: 0.0522s). Check your callbacks.\n"
     ]
    },
    {
     "name": "stdout",
     "output_type": "stream",
     "text": [
      "32/32 [==============================] - ETA: 0s - loss: 2.5461 - acc: 0.0977\n",
      "Epoch 1: val_loss improved from inf to 2.48046, saving model to models/model1_nobatchnorm\n",
      "INFO:tensorflow:Assets written to: models/model1_nobatchnorm/assets\n"
     ]
    },
    {
     "name": "stderr",
     "output_type": "stream",
     "text": [
      "INFO:tensorflow:Assets written to: models/model1_nobatchnorm/assets\n"
     ]
    },
    {
     "name": "stdout",
     "output_type": "stream",
     "text": [
      "32/32 [==============================] - 13s 367ms/step - loss: 2.5461 - acc: 0.0977 - val_loss: 2.4805 - val_acc: 0.1046\n",
      "Epoch 2/50\n",
      "32/32 [==============================] - ETA: 0s - loss: 2.4964 - acc: 0.0967\n",
      "Epoch 2: val_loss improved from 2.48046 to 2.46951, saving model to models/model1_nobatchnorm\n",
      "INFO:tensorflow:Assets written to: models/model1_nobatchnorm/assets\n"
     ]
    },
    {
     "name": "stderr",
     "output_type": "stream",
     "text": [
      "INFO:tensorflow:Assets written to: models/model1_nobatchnorm/assets\n"
     ]
    },
    {
     "name": "stdout",
     "output_type": "stream",
     "text": [
      "32/32 [==============================] - 11s 339ms/step - loss: 2.4964 - acc: 0.0967 - val_loss: 2.4695 - val_acc: 0.1046\n",
      "Epoch 3/50\n",
      "32/32 [==============================] - ETA: 0s - loss: 2.3814 - acc: 0.1094\n",
      "Epoch 3: val_loss improved from 2.46951 to 2.38112, saving model to models/model1_nobatchnorm\n",
      "INFO:tensorflow:Assets written to: models/model1_nobatchnorm/assets\n"
     ]
    },
    {
     "name": "stderr",
     "output_type": "stream",
     "text": [
      "INFO:tensorflow:Assets written to: models/model1_nobatchnorm/assets\n"
     ]
    },
    {
     "name": "stdout",
     "output_type": "stream",
     "text": [
      "32/32 [==============================] - 12s 370ms/step - loss: 2.3814 - acc: 0.1094 - val_loss: 2.3811 - val_acc: 0.0952\n",
      "Epoch 4/50\n",
      "32/32 [==============================] - ETA: 0s - loss: 2.2287 - acc: 0.2158\n",
      "Epoch 4: val_loss improved from 2.38112 to 2.16926, saving model to models/model1_nobatchnorm\n",
      "INFO:tensorflow:Assets written to: models/model1_nobatchnorm/assets\n"
     ]
    },
    {
     "name": "stderr",
     "output_type": "stream",
     "text": [
      "INFO:tensorflow:Assets written to: models/model1_nobatchnorm/assets\n"
     ]
    },
    {
     "name": "stdout",
     "output_type": "stream",
     "text": [
      "32/32 [==============================] - 10s 326ms/step - loss: 2.2287 - acc: 0.2158 - val_loss: 2.1693 - val_acc: 0.2354\n",
      "Epoch 5/50\n",
      "32/32 [==============================] - ETA: 0s - loss: 2.0218 - acc: 0.2754\n",
      "Epoch 5: val_loss improved from 2.16926 to 1.94839, saving model to models/model1_nobatchnorm\n",
      "INFO:tensorflow:Assets written to: models/model1_nobatchnorm/assets\n"
     ]
    },
    {
     "name": "stderr",
     "output_type": "stream",
     "text": [
      "INFO:tensorflow:Assets written to: models/model1_nobatchnorm/assets\n"
     ]
    },
    {
     "name": "stdout",
     "output_type": "stream",
     "text": [
      "32/32 [==============================] - 11s 349ms/step - loss: 2.0218 - acc: 0.2754 - val_loss: 1.9484 - val_acc: 0.3169\n",
      "Epoch 6/50\n",
      "32/32 [==============================] - ETA: 0s - loss: 1.8707 - acc: 0.3232\n",
      "Epoch 6: val_loss improved from 1.94839 to 1.80756, saving model to models/model1_nobatchnorm\n",
      "INFO:tensorflow:Assets written to: models/model1_nobatchnorm/assets\n"
     ]
    },
    {
     "name": "stderr",
     "output_type": "stream",
     "text": [
      "INFO:tensorflow:Assets written to: models/model1_nobatchnorm/assets\n"
     ]
    },
    {
     "name": "stdout",
     "output_type": "stream",
     "text": [
      "32/32 [==============================] - 11s 346ms/step - loss: 1.8707 - acc: 0.3232 - val_loss: 1.8076 - val_acc: 0.2981\n",
      "Epoch 7/50\n",
      "32/32 [==============================] - ETA: 0s - loss: 1.8091 - acc: 0.3730\n",
      "Epoch 7: val_loss improved from 1.80756 to 1.73856, saving model to models/model1_nobatchnorm\n",
      "INFO:tensorflow:Assets written to: models/model1_nobatchnorm/assets\n"
     ]
    },
    {
     "name": "stderr",
     "output_type": "stream",
     "text": [
      "INFO:tensorflow:Assets written to: models/model1_nobatchnorm/assets\n"
     ]
    },
    {
     "name": "stdout",
     "output_type": "stream",
     "text": [
      "32/32 [==============================] - 11s 347ms/step - loss: 1.8091 - acc: 0.3730 - val_loss: 1.7386 - val_acc: 0.3860\n",
      "Epoch 8/50\n",
      "32/32 [==============================] - ETA: 0s - loss: 1.6983 - acc: 0.4079\n",
      "Epoch 8: val_loss improved from 1.73856 to 1.72162, saving model to models/model1_nobatchnorm\n",
      "INFO:tensorflow:Assets written to: models/model1_nobatchnorm/assets\n"
     ]
    },
    {
     "name": "stderr",
     "output_type": "stream",
     "text": [
      "INFO:tensorflow:Assets written to: models/model1_nobatchnorm/assets\n"
     ]
    },
    {
     "name": "stdout",
     "output_type": "stream",
     "text": [
      "32/32 [==============================] - 10s 307ms/step - loss: 1.6983 - acc: 0.4079 - val_loss: 1.7216 - val_acc: 0.3389\n",
      "Epoch 9/50\n",
      "32/32 [==============================] - ETA: 0s - loss: 1.5843 - acc: 0.4355\n",
      "Epoch 9: val_loss improved from 1.72162 to 1.55568, saving model to models/model1_nobatchnorm\n",
      "INFO:tensorflow:Assets written to: models/model1_nobatchnorm/assets\n"
     ]
    },
    {
     "name": "stderr",
     "output_type": "stream",
     "text": [
      "INFO:tensorflow:Assets written to: models/model1_nobatchnorm/assets\n"
     ]
    },
    {
     "name": "stdout",
     "output_type": "stream",
     "text": [
      "32/32 [==============================] - 11s 355ms/step - loss: 1.5843 - acc: 0.4355 - val_loss: 1.5557 - val_acc: 0.4550\n",
      "Epoch 10/50\n",
      "32/32 [==============================] - ETA: 0s - loss: 1.5965 - acc: 0.4277\n",
      "Epoch 10: val_loss did not improve from 1.55568\n",
      "32/32 [==============================] - 9s 270ms/step - loss: 1.5965 - acc: 0.4277 - val_loss: 1.6260 - val_acc: 0.3734\n",
      "Epoch 11/50\n",
      "32/32 [==============================] - ETA: 0s - loss: 1.5398 - acc: 0.4756\n",
      "Epoch 11: val_loss improved from 1.55568 to 1.50274, saving model to models/model1_nobatchnorm\n",
      "INFO:tensorflow:Assets written to: models/model1_nobatchnorm/assets\n"
     ]
    },
    {
     "name": "stderr",
     "output_type": "stream",
     "text": [
      "INFO:tensorflow:Assets written to: models/model1_nobatchnorm/assets\n"
     ]
    },
    {
     "name": "stdout",
     "output_type": "stream",
     "text": [
      "32/32 [==============================] - 11s 338ms/step - loss: 1.5398 - acc: 0.4756 - val_loss: 1.5027 - val_acc: 0.4791\n",
      "Epoch 12/50\n",
      "32/32 [==============================] - ETA: 0s - loss: 1.3838 - acc: 0.5317\n",
      "Epoch 12: val_loss improved from 1.50274 to 1.44874, saving model to models/model1_nobatchnorm\n",
      "INFO:tensorflow:Assets written to: models/model1_nobatchnorm/assets\n"
     ]
    },
    {
     "name": "stderr",
     "output_type": "stream",
     "text": [
      "INFO:tensorflow:Assets written to: models/model1_nobatchnorm/assets\n"
     ]
    },
    {
     "name": "stdout",
     "output_type": "stream",
     "text": [
      "32/32 [==============================] - 12s 380ms/step - loss: 1.3838 - acc: 0.5317 - val_loss: 1.4487 - val_acc: 0.5105\n",
      "Epoch 13/50\n",
      "32/32 [==============================] - ETA: 0s - loss: 1.3994 - acc: 0.5400\n",
      "Epoch 13: val_loss improved from 1.44874 to 1.40615, saving model to models/model1_nobatchnorm\n",
      "INFO:tensorflow:Assets written to: models/model1_nobatchnorm/assets\n"
     ]
    },
    {
     "name": "stderr",
     "output_type": "stream",
     "text": [
      "INFO:tensorflow:Assets written to: models/model1_nobatchnorm/assets\n"
     ]
    },
    {
     "name": "stdout",
     "output_type": "stream",
     "text": [
      "32/32 [==============================] - 11s 356ms/step - loss: 1.3994 - acc: 0.5400 - val_loss: 1.4062 - val_acc: 0.4916\n",
      "Epoch 14/50\n",
      "32/32 [==============================] - ETA: 0s - loss: 1.4408 - acc: 0.5049\n",
      "Epoch 14: val_loss did not improve from 1.40615\n",
      "32/32 [==============================] - 9s 267ms/step - loss: 1.4408 - acc: 0.5049 - val_loss: 1.4199 - val_acc: 0.5314\n",
      "Epoch 15/50\n",
      "32/32 [==============================] - ETA: 0s - loss: 1.3531 - acc: 0.5525\n",
      "Epoch 15: val_loss did not improve from 1.40615\n",
      "32/32 [==============================] - 8s 243ms/step - loss: 1.3531 - acc: 0.5525 - val_loss: 1.4499 - val_acc: 0.5052\n",
      "Epoch 16/50\n",
      "32/32 [==============================] - ETA: 0s - loss: 1.2860 - acc: 0.5742\n",
      "Epoch 16: val_loss improved from 1.40615 to 1.37134, saving model to models/model1_nobatchnorm\n",
      "INFO:tensorflow:Assets written to: models/model1_nobatchnorm/assets\n"
     ]
    },
    {
     "name": "stderr",
     "output_type": "stream",
     "text": [
      "INFO:tensorflow:Assets written to: models/model1_nobatchnorm/assets\n"
     ]
    },
    {
     "name": "stdout",
     "output_type": "stream",
     "text": [
      "32/32 [==============================] - 11s 351ms/step - loss: 1.2860 - acc: 0.5742 - val_loss: 1.3713 - val_acc: 0.5042\n",
      "Epoch 17/50\n",
      "32/32 [==============================] - ETA: 0s - loss: 1.2540 - acc: 0.5889\n",
      "Epoch 17: val_loss improved from 1.37134 to 1.30373, saving model to models/model1_nobatchnorm\n",
      "INFO:tensorflow:Assets written to: models/model1_nobatchnorm/assets\n"
     ]
    },
    {
     "name": "stderr",
     "output_type": "stream",
     "text": [
      "INFO:tensorflow:Assets written to: models/model1_nobatchnorm/assets\n"
     ]
    },
    {
     "name": "stdout",
     "output_type": "stream",
     "text": [
      "32/32 [==============================] - 10s 327ms/step - loss: 1.2540 - acc: 0.5889 - val_loss: 1.3037 - val_acc: 0.5523\n",
      "Epoch 18/50\n",
      "32/32 [==============================] - ETA: 0s - loss: 1.2113 - acc: 0.6074\n",
      "Epoch 18: val_loss improved from 1.30373 to 1.25577, saving model to models/model1_nobatchnorm\n",
      "INFO:tensorflow:Assets written to: models/model1_nobatchnorm/assets\n"
     ]
    },
    {
     "name": "stderr",
     "output_type": "stream",
     "text": [
      "INFO:tensorflow:Assets written to: models/model1_nobatchnorm/assets\n"
     ]
    },
    {
     "name": "stdout",
     "output_type": "stream",
     "text": [
      "32/32 [==============================] - 10s 322ms/step - loss: 1.2113 - acc: 0.6074 - val_loss: 1.2558 - val_acc: 0.5649\n",
      "Epoch 19/50\n",
      "32/32 [==============================] - ETA: 0s - loss: 1.2100 - acc: 0.5960\n",
      "Epoch 19: val_loss improved from 1.25577 to 1.22873, saving model to models/model1_nobatchnorm\n",
      "INFO:tensorflow:Assets written to: models/model1_nobatchnorm/assets\n"
     ]
    },
    {
     "name": "stderr",
     "output_type": "stream",
     "text": [
      "INFO:tensorflow:Assets written to: models/model1_nobatchnorm/assets\n"
     ]
    },
    {
     "name": "stdout",
     "output_type": "stream",
     "text": [
      "32/32 [==============================] - 9s 294ms/step - loss: 1.2100 - acc: 0.5960 - val_loss: 1.2287 - val_acc: 0.5722\n",
      "Epoch 20/50\n",
      "32/32 [==============================] - ETA: 0s - loss: 1.1086 - acc: 0.6270\n",
      "Epoch 20: val_loss improved from 1.22873 to 1.20363, saving model to models/model1_nobatchnorm\n",
      "INFO:tensorflow:Assets written to: models/model1_nobatchnorm/assets\n"
     ]
    },
    {
     "name": "stderr",
     "output_type": "stream",
     "text": [
      "INFO:tensorflow:Assets written to: models/model1_nobatchnorm/assets\n"
     ]
    },
    {
     "name": "stdout",
     "output_type": "stream",
     "text": [
      "32/32 [==============================] - 11s 350ms/step - loss: 1.1086 - acc: 0.6270 - val_loss: 1.2036 - val_acc: 0.5753\n",
      "Epoch 21/50\n",
      "32/32 [==============================] - ETA: 0s - loss: 1.0924 - acc: 0.6504\n",
      "Epoch 21: val_loss did not improve from 1.20363\n",
      "32/32 [==============================] - 8s 265ms/step - loss: 1.0924 - acc: 0.6504 - val_loss: 1.2441 - val_acc: 0.5941\n",
      "Epoch 22/50\n",
      "32/32 [==============================] - ETA: 0s - loss: 1.0187 - acc: 0.6719\n",
      "Epoch 22: val_loss improved from 1.20363 to 1.16952, saving model to models/model1_nobatchnorm\n",
      "INFO:tensorflow:Assets written to: models/model1_nobatchnorm/assets\n"
     ]
    },
    {
     "name": "stderr",
     "output_type": "stream",
     "text": [
      "INFO:tensorflow:Assets written to: models/model1_nobatchnorm/assets\n"
     ]
    },
    {
     "name": "stdout",
     "output_type": "stream",
     "text": [
      "32/32 [==============================] - 11s 350ms/step - loss: 1.0187 - acc: 0.6719 - val_loss: 1.1695 - val_acc: 0.5994\n",
      "Epoch 23/50\n",
      "32/32 [==============================] - ETA: 0s - loss: 0.9930 - acc: 0.6653\n",
      "Epoch 23: val_loss did not improve from 1.16952\n",
      "32/32 [==============================] - 9s 281ms/step - loss: 0.9930 - acc: 0.6653 - val_loss: 1.2001 - val_acc: 0.6151\n",
      "Epoch 24/50\n",
      "32/32 [==============================] - ETA: 0s - loss: 0.9591 - acc: 0.6846\n",
      "Epoch 24: val_loss did not improve from 1.16952\n",
      "32/32 [==============================] - 9s 280ms/step - loss: 0.9591 - acc: 0.6846 - val_loss: 1.2349 - val_acc: 0.6119\n",
      "Epoch 25/50\n",
      "32/32 [==============================] - ETA: 0s - loss: 0.9778 - acc: 0.6582\n",
      "Epoch 25: val_loss improved from 1.16952 to 1.11947, saving model to models/model1_nobatchnorm\n",
      "INFO:tensorflow:Assets written to: models/model1_nobatchnorm/assets\n"
     ]
    },
    {
     "name": "stderr",
     "output_type": "stream",
     "text": [
      "INFO:tensorflow:Assets written to: models/model1_nobatchnorm/assets\n"
     ]
    },
    {
     "name": "stdout",
     "output_type": "stream",
     "text": [
      "32/32 [==============================] - 10s 319ms/step - loss: 0.9778 - acc: 0.6582 - val_loss: 1.1195 - val_acc: 0.6297\n",
      "Epoch 26/50\n",
      "32/32 [==============================] - ETA: 0s - loss: 0.9612 - acc: 0.6777\n",
      "Epoch 26: val_loss did not improve from 1.11947\n",
      "32/32 [==============================] - 8s 255ms/step - loss: 0.9612 - acc: 0.6777 - val_loss: 1.1273 - val_acc: 0.6255\n",
      "Epoch 27/50\n",
      "32/32 [==============================] - ETA: 0s - loss: 0.8771 - acc: 0.7000\n",
      "Epoch 27: val_loss improved from 1.11947 to 1.11839, saving model to models/model1_nobatchnorm\n",
      "INFO:tensorflow:Assets written to: models/model1_nobatchnorm/assets\n"
     ]
    },
    {
     "name": "stderr",
     "output_type": "stream",
     "text": [
      "INFO:tensorflow:Assets written to: models/model1_nobatchnorm/assets\n"
     ]
    },
    {
     "name": "stdout",
     "output_type": "stream",
     "text": [
      "32/32 [==============================] - 11s 339ms/step - loss: 0.8771 - acc: 0.7000 - val_loss: 1.1184 - val_acc: 0.6161\n",
      "Epoch 28/50\n",
      "32/32 [==============================] - ETA: 0s - loss: 0.7716 - acc: 0.7227\n",
      "Epoch 28: val_loss improved from 1.11839 to 1.06972, saving model to models/model1_nobatchnorm\n",
      "INFO:tensorflow:Assets written to: models/model1_nobatchnorm/assets\n"
     ]
    },
    {
     "name": "stderr",
     "output_type": "stream",
     "text": [
      "INFO:tensorflow:Assets written to: models/model1_nobatchnorm/assets\n"
     ]
    },
    {
     "name": "stdout",
     "output_type": "stream",
     "text": [
      "32/32 [==============================] - 10s 329ms/step - loss: 0.7716 - acc: 0.7227 - val_loss: 1.0697 - val_acc: 0.6444\n",
      "Epoch 29/50\n",
      "32/32 [==============================] - ETA: 0s - loss: 0.9001 - acc: 0.7246\n",
      "Epoch 29: val_loss improved from 1.06972 to 1.05875, saving model to models/model1_nobatchnorm\n",
      "INFO:tensorflow:Assets written to: models/model1_nobatchnorm/assets\n"
     ]
    },
    {
     "name": "stderr",
     "output_type": "stream",
     "text": [
      "INFO:tensorflow:Assets written to: models/model1_nobatchnorm/assets\n"
     ]
    },
    {
     "name": "stdout",
     "output_type": "stream",
     "text": [
      "32/32 [==============================] - 11s 361ms/step - loss: 0.9001 - acc: 0.7246 - val_loss: 1.0587 - val_acc: 0.6569\n",
      "Epoch 30/50\n",
      "32/32 [==============================] - ETA: 0s - loss: 0.8736 - acc: 0.7139\n",
      "Epoch 30: val_loss did not improve from 1.05875\n",
      "32/32 [==============================] - 8s 237ms/step - loss: 0.8736 - acc: 0.7139 - val_loss: 1.1101 - val_acc: 0.6475\n",
      "Epoch 31/50\n",
      "32/32 [==============================] - ETA: 0s - loss: 0.7757 - acc: 0.7471\n",
      "Epoch 31: val_loss did not improve from 1.05875\n",
      "32/32 [==============================] - 9s 299ms/step - loss: 0.7757 - acc: 0.7471 - val_loss: 1.2346 - val_acc: 0.6098\n",
      "Epoch 32/50\n",
      "32/32 [==============================] - ETA: 0s - loss: 0.7067 - acc: 0.7617\n",
      "Epoch 32: val_loss did not improve from 1.05875\n",
      "32/32 [==============================] - 9s 275ms/step - loss: 0.7067 - acc: 0.7617 - val_loss: 1.1143 - val_acc: 0.6569\n",
      "Epoch 33/50\n",
      "32/32 [==============================] - ETA: 0s - loss: 0.7983 - acc: 0.7295\n",
      "Epoch 33: val_loss did not improve from 1.05875\n",
      "32/32 [==============================] - 9s 277ms/step - loss: 0.7983 - acc: 0.7295 - val_loss: 1.1242 - val_acc: 0.6391\n",
      "Epoch 34/50\n",
      "32/32 [==============================] - ETA: 0s - loss: 0.8400 - acc: 0.7149\n",
      "Epoch 34: val_loss did not improve from 1.05875\n",
      "32/32 [==============================] - 8s 265ms/step - loss: 0.8400 - acc: 0.7149 - val_loss: 1.0985 - val_acc: 0.6621\n",
      "Epoch 35/50\n",
      "32/32 [==============================] - ETA: 0s - loss: 0.6527 - acc: 0.7793\n",
      "Epoch 35: val_loss improved from 1.05875 to 1.05726, saving model to models/model1_nobatchnorm\n",
      "INFO:tensorflow:Assets written to: models/model1_nobatchnorm/assets\n"
     ]
    },
    {
     "name": "stderr",
     "output_type": "stream",
     "text": [
      "INFO:tensorflow:Assets written to: models/model1_nobatchnorm/assets\n"
     ]
    },
    {
     "name": "stdout",
     "output_type": "stream",
     "text": [
      "32/32 [==============================] - 11s 334ms/step - loss: 0.6527 - acc: 0.7793 - val_loss: 1.0573 - val_acc: 0.6527\n",
      "Epoch 36/50\n",
      "32/32 [==============================] - ETA: 0s - loss: 0.6743 - acc: 0.7910\n",
      "Epoch 36: val_loss improved from 1.05726 to 1.02986, saving model to models/model1_nobatchnorm\n",
      "INFO:tensorflow:Assets written to: models/model1_nobatchnorm/assets\n"
     ]
    },
    {
     "name": "stderr",
     "output_type": "stream",
     "text": [
      "INFO:tensorflow:Assets written to: models/model1_nobatchnorm/assets\n"
     ]
    },
    {
     "name": "stdout",
     "output_type": "stream",
     "text": [
      "32/32 [==============================] - 11s 346ms/step - loss: 0.6743 - acc: 0.7910 - val_loss: 1.0299 - val_acc: 0.6632\n",
      "Epoch 37/50\n",
      "32/32 [==============================] - ETA: 0s - loss: 0.6785 - acc: 0.7803\n",
      "Epoch 37: val_loss improved from 1.02986 to 1.01000, saving model to models/model1_nobatchnorm\n",
      "INFO:tensorflow:Assets written to: models/model1_nobatchnorm/assets\n"
     ]
    },
    {
     "name": "stderr",
     "output_type": "stream",
     "text": [
      "INFO:tensorflow:Assets written to: models/model1_nobatchnorm/assets\n"
     ]
    },
    {
     "name": "stdout",
     "output_type": "stream",
     "text": [
      "32/32 [==============================] - 10s 309ms/step - loss: 0.6785 - acc: 0.7803 - val_loss: 1.0100 - val_acc: 0.6768\n",
      "Epoch 38/50\n",
      "32/32 [==============================] - ETA: 0s - loss: 0.5802 - acc: 0.8287\n",
      "Epoch 38: val_loss did not improve from 1.01000\n",
      "32/32 [==============================] - 9s 287ms/step - loss: 0.5802 - acc: 0.8287 - val_loss: 1.0693 - val_acc: 0.6475\n",
      "Epoch 39/50\n",
      "32/32 [==============================] - ETA: 0s - loss: 0.5662 - acc: 0.8145\n",
      "Epoch 39: val_loss did not improve from 1.01000\n",
      "32/32 [==============================] - 9s 272ms/step - loss: 0.5662 - acc: 0.8145 - val_loss: 1.1137 - val_acc: 0.6559\n",
      "Epoch 40/50\n",
      "32/32 [==============================] - ETA: 0s - loss: 0.5919 - acc: 0.8066\n",
      "Epoch 40: val_loss did not improve from 1.01000\n",
      "32/32 [==============================] - 9s 271ms/step - loss: 0.5919 - acc: 0.8066 - val_loss: 1.0590 - val_acc: 0.6517\n",
      "Epoch 41/50\n",
      "32/32 [==============================] - ETA: 0s - loss: 0.5329 - acc: 0.8208\n",
      "Epoch 41: val_loss did not improve from 1.01000\n",
      "32/32 [==============================] - 8s 254ms/step - loss: 0.5329 - acc: 0.8208 - val_loss: 1.0307 - val_acc: 0.6632\n",
      "Epoch 42/50\n",
      "32/32 [==============================] - ETA: 0s - loss: 0.4821 - acc: 0.8486\n",
      "Epoch 42: val_loss did not improve from 1.01000\n",
      "32/32 [==============================] - 8s 263ms/step - loss: 0.4821 - acc: 0.8486 - val_loss: 1.0484 - val_acc: 0.6642\n",
      "Epoch 43/50\n",
      "32/32 [==============================] - ETA: 0s - loss: 0.5006 - acc: 0.8350\n",
      "Epoch 43: val_loss did not improve from 1.01000\n",
      "32/32 [==============================] - 9s 276ms/step - loss: 0.5006 - acc: 0.8350 - val_loss: 1.1557 - val_acc: 0.6517\n",
      "Epoch 44/50\n",
      "32/32 [==============================] - ETA: 0s - loss: 0.5206 - acc: 0.8262\n",
      "Epoch 44: val_loss did not improve from 1.01000\n",
      "32/32 [==============================] - 9s 286ms/step - loss: 0.5206 - acc: 0.8262 - val_loss: 1.1377 - val_acc: 0.6517\n",
      "Epoch 45/50\n",
      "32/32 [==============================] - ETA: 0s - loss: 0.5172 - acc: 0.8366\n",
      "Epoch 45: val_loss improved from 1.01000 to 1.00949, saving model to models/model1_nobatchnorm\n",
      "INFO:tensorflow:Assets written to: models/model1_nobatchnorm/assets\n"
     ]
    },
    {
     "name": "stderr",
     "output_type": "stream",
     "text": [
      "INFO:tensorflow:Assets written to: models/model1_nobatchnorm/assets\n"
     ]
    },
    {
     "name": "stdout",
     "output_type": "stream",
     "text": [
      "32/32 [==============================] - 10s 307ms/step - loss: 0.5172 - acc: 0.8366 - val_loss: 1.0095 - val_acc: 0.6726\n",
      "Epoch 46/50\n",
      "32/32 [==============================] - ETA: 0s - loss: 0.4200 - acc: 0.8770\n",
      "Epoch 46: val_loss did not improve from 1.00949\n",
      "32/32 [==============================] - 9s 294ms/step - loss: 0.4200 - acc: 0.8770 - val_loss: 1.1007 - val_acc: 0.6632\n",
      "Epoch 47/50\n",
      "32/32 [==============================] - ETA: 0s - loss: 0.4959 - acc: 0.8135\n",
      "Epoch 47: val_loss did not improve from 1.00949\n",
      "32/32 [==============================] - 9s 277ms/step - loss: 0.4959 - acc: 0.8135 - val_loss: 1.2742 - val_acc: 0.6130\n",
      "Epoch 48/50\n",
      "32/32 [==============================] - ETA: 0s - loss: 0.5052 - acc: 0.8389\n",
      "Epoch 48: val_loss did not improve from 1.00949\n",
      "32/32 [==============================] - 8s 248ms/step - loss: 0.5052 - acc: 0.8389 - val_loss: 1.0981 - val_acc: 0.6433\n",
      "Epoch 49/50\n",
      "32/32 [==============================] - ETA: 0s - loss: 0.4018 - acc: 0.8673\n",
      "Epoch 49: val_loss did not improve from 1.00949\n",
      "32/32 [==============================] - 9s 289ms/step - loss: 0.4018 - acc: 0.8673 - val_loss: 1.0214 - val_acc: 0.6757\n",
      "Epoch 50/50\n",
      "32/32 [==============================] - ETA: 0s - loss: 0.3477 - acc: 0.8867\n",
      "Epoch 50: val_loss did not improve from 1.00949\n",
      "32/32 [==============================] - 9s 276ms/step - loss: 0.3477 - acc: 0.8867 - val_loss: 1.0130 - val_acc: 0.6841\n",
      "Running Experiment: model2\n",
      "Model: \"sequential_2\"\n",
      "_________________________________________________________________\n",
      " Layer (type)                Output Shape              Param #   \n",
      "=================================================================\n",
      " block1 (Sequential)         (None, 112, 112, 64)      5120      \n",
      "                                                                 \n",
      " block2 (Sequential)         (None, 56, 56, 128)       205440    \n",
      "                                                                 \n",
      " top_model_flatten (Flatten  (None, 401408)            0         \n",
      " )                                                               \n",
      "                                                                 \n",
      " top_model_dense_1 (Dense)   (None, 128)               51380352  \n",
      "                                                                 \n",
      " top_model_output (Dense)    (None, 12)                1548      \n",
      "                                                                 \n",
      "=================================================================\n",
      "Total params: 51592460 (196.81 MB)\n",
      "Trainable params: 51592076 (196.81 MB)\n",
      "Non-trainable params: 384 (1.50 KB)\n",
      "_________________________________________________________________\n",
      "None\n",
      "Epoch 1/50\n"
     ]
    },
    {
     "name": "stderr",
     "output_type": "stream",
     "text": [
      "2023-11-22 10:04:15.866954: E tensorflow/core/grappler/optimizers/meta_optimizer.cc:961] layout failed: INVALID_ARGUMENT: Size of values 0 does not match size of permutation 4 @ fanin shape insequential_2/block1/dropout_6/dropout/SelectV2-2-TransposeNHWCToNCHW-LayoutOptimizer\n"
     ]
    },
    {
     "name": "stdout",
     "output_type": "stream",
     "text": [
      " 6/32 [====>.........................] - ETA: 2s - loss: 14.5759 - acc: 0.1042WARNING:tensorflow:Callback method `on_train_batch_end` is slow compared to the batch time (batch time: 0.0343s vs `on_train_batch_end` time: 0.0513s). Check your callbacks.\n"
     ]
    },
    {
     "name": "stderr",
     "output_type": "stream",
     "text": [
      "WARNING:tensorflow:Callback method `on_train_batch_end` is slow compared to the batch time (batch time: 0.0343s vs `on_train_batch_end` time: 0.0513s). Check your callbacks.\n"
     ]
    },
    {
     "name": "stdout",
     "output_type": "stream",
     "text": [
      "32/32 [==============================] - ETA: 0s - loss: 6.9624 - acc: 0.1807\n",
      "Epoch 1: val_loss improved from inf to 3.27310, saving model to models/model2\n",
      "INFO:tensorflow:Assets written to: models/model2/assets\n"
     ]
    },
    {
     "name": "stderr",
     "output_type": "stream",
     "text": [
      "INFO:tensorflow:Assets written to: models/model2/assets\n"
     ]
    },
    {
     "name": "stdout",
     "output_type": "stream",
     "text": [
      "32/32 [==============================] - 15s 352ms/step - loss: 6.9624 - acc: 0.1807 - val_loss: 3.2731 - val_acc: 0.0764\n",
      "Epoch 2/50\n",
      "32/32 [==============================] - ETA: 0s - loss: 2.3226 - acc: 0.2383\n",
      "Epoch 2: val_loss did not improve from 3.27310\n",
      "32/32 [==============================] - 9s 277ms/step - loss: 2.3226 - acc: 0.2383 - val_loss: 11.7348 - val_acc: 0.0554\n",
      "Epoch 3/50\n",
      "32/32 [==============================] - ETA: 0s - loss: 2.1994 - acc: 0.2998\n",
      "Epoch 3: val_loss did not improve from 3.27310\n",
      "32/32 [==============================] - 9s 281ms/step - loss: 2.1994 - acc: 0.2998 - val_loss: 19.6208 - val_acc: 0.0554\n",
      "Epoch 4/50\n",
      "32/32 [==============================] - ETA: 0s - loss: 2.0675 - acc: 0.3307\n",
      "Epoch 4: val_loss did not improve from 3.27310\n",
      "32/32 [==============================] - 9s 296ms/step - loss: 2.0675 - acc: 0.3307 - val_loss: 30.7655 - val_acc: 0.0554\n",
      "Epoch 5/50\n",
      "32/32 [==============================] - ETA: 0s - loss: 1.8451 - acc: 0.3828\n",
      "Epoch 5: val_loss did not improve from 3.27310\n",
      "32/32 [==============================] - 9s 281ms/step - loss: 1.8451 - acc: 0.3828 - val_loss: 37.3168 - val_acc: 0.0554\n",
      "Epoch 6/50\n",
      "32/32 [==============================] - ETA: 0s - loss: 1.8995 - acc: 0.3887\n",
      "Epoch 6: val_loss did not improve from 3.27310\n",
      "32/32 [==============================] - 9s 281ms/step - loss: 1.8995 - acc: 0.3887 - val_loss: 54.6829 - val_acc: 0.0554\n",
      "Epoch 7/50\n",
      "32/32 [==============================] - ETA: 0s - loss: 1.7792 - acc: 0.4033\n",
      "Epoch 7: val_loss did not improve from 3.27310\n",
      "32/32 [==============================] - 9s 282ms/step - loss: 1.7792 - acc: 0.4033 - val_loss: 64.6862 - val_acc: 0.0554\n",
      "Epoch 8/50\n",
      "32/32 [==============================] - ETA: 0s - loss: 1.6591 - acc: 0.4851\n",
      "Epoch 8: val_loss did not improve from 3.27310\n",
      "32/32 [==============================] - 9s 277ms/step - loss: 1.6591 - acc: 0.4851 - val_loss: 74.7918 - val_acc: 0.0554\n",
      "Epoch 9/50\n",
      "32/32 [==============================] - ETA: 0s - loss: 1.5740 - acc: 0.4912\n",
      "Epoch 9: val_loss did not improve from 3.27310\n",
      "32/32 [==============================] - 9s 279ms/step - loss: 1.5740 - acc: 0.4912 - val_loss: 76.0730 - val_acc: 0.0554\n",
      "Epoch 10/50\n",
      "32/32 [==============================] - ETA: 0s - loss: 1.4823 - acc: 0.5020\n",
      "Epoch 10: val_loss did not improve from 3.27310\n",
      "32/32 [==============================] - 8s 266ms/step - loss: 1.4823 - acc: 0.5020 - val_loss: 75.3703 - val_acc: 0.0554\n",
      "Epoch 11/50\n",
      "32/32 [==============================] - ETA: 0s - loss: 1.4602 - acc: 0.5000\n",
      "Epoch 11: val_loss did not improve from 3.27310\n",
      "32/32 [==============================] - 8s 247ms/step - loss: 1.4602 - acc: 0.5000 - val_loss: 74.4694 - val_acc: 0.0554\n",
      "Epoch 12/50\n",
      "32/32 [==============================] - ETA: 0s - loss: 1.2499 - acc: 0.5812\n",
      "Epoch 12: val_loss did not improve from 3.27310\n",
      "32/32 [==============================] - 9s 295ms/step - loss: 1.2499 - acc: 0.5812 - val_loss: 65.3735 - val_acc: 0.0617\n",
      "Epoch 13/50\n",
      "32/32 [==============================] - ETA: 0s - loss: 1.2385 - acc: 0.5381\n",
      "Epoch 13: val_loss did not improve from 3.27310\n",
      "32/32 [==============================] - 10s 310ms/step - loss: 1.2385 - acc: 0.5381 - val_loss: 73.1911 - val_acc: 0.0575\n",
      "Epoch 14/50\n",
      "32/32 [==============================] - ETA: 0s - loss: 1.1318 - acc: 0.6084\n",
      "Epoch 14: val_loss did not improve from 3.27310\n",
      "32/32 [==============================] - 9s 300ms/step - loss: 1.1318 - acc: 0.6084 - val_loss: 59.8131 - val_acc: 0.0732\n",
      "Epoch 15/50\n",
      "32/32 [==============================] - ETA: 0s - loss: 1.2347 - acc: 0.5861\n",
      "Epoch 15: val_loss did not improve from 3.27310\n",
      "32/32 [==============================] - 8s 265ms/step - loss: 1.2347 - acc: 0.5861 - val_loss: 40.7016 - val_acc: 0.0879\n",
      "Epoch 16/50\n",
      "32/32 [==============================] - ETA: 0s - loss: 0.9848 - acc: 0.6807\n",
      "Epoch 16: val_loss did not improve from 3.27310\n",
      "32/32 [==============================] - 9s 280ms/step - loss: 0.9848 - acc: 0.6807 - val_loss: 25.3455 - val_acc: 0.1747\n",
      "Epoch 17/50\n",
      "32/32 [==============================] - ETA: 0s - loss: 0.9518 - acc: 0.6777\n",
      "Epoch 17: val_loss did not improve from 3.27310\n",
      "32/32 [==============================] - 9s 283ms/step - loss: 0.9518 - acc: 0.6777 - val_loss: 15.3936 - val_acc: 0.1914\n",
      "Epoch 18/50\n",
      "32/32 [==============================] - ETA: 0s - loss: 0.8942 - acc: 0.6777\n",
      "Epoch 18: val_loss did not improve from 3.27310\n",
      "32/32 [==============================] - 9s 281ms/step - loss: 0.8942 - acc: 0.6777 - val_loss: 19.1482 - val_acc: 0.2082\n",
      "Epoch 19/50\n",
      "32/32 [==============================] - ETA: 0s - loss: 0.8596 - acc: 0.7168\n",
      "Epoch 19: val_loss did not improve from 3.27310\n",
      "32/32 [==============================] - 9s 274ms/step - loss: 0.8596 - acc: 0.7168 - val_loss: 8.7236 - val_acc: 0.3441\n",
      "Epoch 20/50\n",
      "32/32 [==============================] - ETA: 0s - loss: 0.7391 - acc: 0.7422\n",
      "Epoch 20: val_loss did not improve from 3.27310\n",
      "32/32 [==============================] - 9s 288ms/step - loss: 0.7391 - acc: 0.7422 - val_loss: 4.2261 - val_acc: 0.4195\n",
      "Epoch 21/50\n",
      "32/32 [==============================] - ETA: 0s - loss: 0.7753 - acc: 0.7217\n",
      "Epoch 21: val_loss did not improve from 3.27310\n",
      "32/32 [==============================] - 10s 310ms/step - loss: 0.7753 - acc: 0.7217 - val_loss: 4.3458 - val_acc: 0.3954\n",
      "Epoch 21: early stopping\n",
      "Running Experiment: model2_nobatchnorm\n",
      "Model: \"sequential_3\"\n",
      "_________________________________________________________________\n",
      " Layer (type)                Output Shape              Param #   \n",
      "=================================================================\n",
      " block1 (Sequential)         (None, 112, 112, 64)      4864      \n",
      "                                                                 \n",
      " block2 (Sequential)         (None, 56, 56, 128)       204928    \n",
      "                                                                 \n",
      " top_model_flatten (Flatten  (None, 401408)            0         \n",
      " )                                                               \n",
      "                                                                 \n",
      " top_model_dense_1 (Dense)   (None, 128)               51380352  \n",
      "                                                                 \n",
      " top_model_output (Dense)    (None, 12)                1548      \n",
      "                                                                 \n",
      "=================================================================\n",
      "Total params: 51591692 (196.81 MB)\n",
      "Trainable params: 51591692 (196.81 MB)\n",
      "Non-trainable params: 0 (0.00 Byte)\n",
      "_________________________________________________________________\n",
      "None\n",
      "Epoch 1/50\n"
     ]
    },
    {
     "name": "stderr",
     "output_type": "stream",
     "text": [
      "2023-11-22 10:07:29.366826: E tensorflow/core/grappler/optimizers/meta_optimizer.cc:961] layout failed: INVALID_ARGUMENT: Size of values 0 does not match size of permutation 4 @ fanin shape insequential_3/block1/dropout_8/dropout/SelectV2-2-TransposeNHWCToNCHW-LayoutOptimizer\n"
     ]
    },
    {
     "name": "stdout",
     "output_type": "stream",
     "text": [
      " 6/32 [====>.........................] - ETA: 2s - loss: 3.1321 - acc: 0.1302WARNING:tensorflow:Callback method `on_train_batch_end` is slow compared to the batch time (batch time: 0.0388s vs `on_train_batch_end` time: 0.0538s). Check your callbacks.\n"
     ]
    },
    {
     "name": "stderr",
     "output_type": "stream",
     "text": [
      "WARNING:tensorflow:Callback method `on_train_batch_end` is slow compared to the batch time (batch time: 0.0388s vs `on_train_batch_end` time: 0.0538s). Check your callbacks.\n"
     ]
    },
    {
     "name": "stdout",
     "output_type": "stream",
     "text": [
      "32/32 [==============================] - ETA: 0s - loss: 2.5873 - acc: 0.1123\n",
      "Epoch 1: val_loss improved from inf to 2.47868, saving model to models/model2_nobatchnorm\n",
      "INFO:tensorflow:Assets written to: models/model2_nobatchnorm/assets\n"
     ]
    },
    {
     "name": "stderr",
     "output_type": "stream",
     "text": [
      "INFO:tensorflow:Assets written to: models/model2_nobatchnorm/assets\n"
     ]
    },
    {
     "name": "stdout",
     "output_type": "stream",
     "text": [
      "32/32 [==============================] - 12s 356ms/step - loss: 2.5873 - acc: 0.1123 - val_loss: 2.4787 - val_acc: 0.1287\n",
      "Epoch 2/50\n",
      "32/32 [==============================] - ETA: 0s - loss: 2.4278 - acc: 0.1602\n",
      "Epoch 2: val_loss improved from 2.47868 to 2.43470, saving model to models/model2_nobatchnorm\n",
      "INFO:tensorflow:Assets written to: models/model2_nobatchnorm/assets\n"
     ]
    },
    {
     "name": "stderr",
     "output_type": "stream",
     "text": [
      "INFO:tensorflow:Assets written to: models/model2_nobatchnorm/assets\n"
     ]
    },
    {
     "name": "stdout",
     "output_type": "stream",
     "text": [
      "32/32 [==============================] - 11s 341ms/step - loss: 2.4278 - acc: 0.1602 - val_loss: 2.4347 - val_acc: 0.1496\n",
      "Epoch 3/50\n",
      "32/32 [==============================] - ETA: 0s - loss: 2.4418 - acc: 0.1816\n",
      "Epoch 3: val_loss improved from 2.43470 to 2.34075, saving model to models/model2_nobatchnorm\n",
      "INFO:tensorflow:Assets written to: models/model2_nobatchnorm/assets\n"
     ]
    },
    {
     "name": "stderr",
     "output_type": "stream",
     "text": [
      "INFO:tensorflow:Assets written to: models/model2_nobatchnorm/assets\n"
     ]
    },
    {
     "name": "stdout",
     "output_type": "stream",
     "text": [
      "32/32 [==============================] - 12s 386ms/step - loss: 2.4418 - acc: 0.1816 - val_loss: 2.3407 - val_acc: 0.1998\n",
      "Epoch 4/50\n",
      "32/32 [==============================] - ETA: 0s - loss: 2.2930 - acc: 0.1644\n",
      "Epoch 4: val_loss improved from 2.34075 to 2.18443, saving model to models/model2_nobatchnorm\n",
      "INFO:tensorflow:Assets written to: models/model2_nobatchnorm/assets\n"
     ]
    },
    {
     "name": "stderr",
     "output_type": "stream",
     "text": [
      "INFO:tensorflow:Assets written to: models/model2_nobatchnorm/assets\n"
     ]
    },
    {
     "name": "stdout",
     "output_type": "stream",
     "text": [
      "32/32 [==============================] - 11s 343ms/step - loss: 2.2930 - acc: 0.1644 - val_loss: 2.1844 - val_acc: 0.2678\n",
      "Epoch 5/50\n",
      "32/32 [==============================] - ETA: 0s - loss: 2.1167 - acc: 0.2715\n",
      "Epoch 5: val_loss improved from 2.18443 to 2.01693, saving model to models/model2_nobatchnorm\n",
      "INFO:tensorflow:Assets written to: models/model2_nobatchnorm/assets\n"
     ]
    },
    {
     "name": "stderr",
     "output_type": "stream",
     "text": [
      "INFO:tensorflow:Assets written to: models/model2_nobatchnorm/assets\n"
     ]
    },
    {
     "name": "stdout",
     "output_type": "stream",
     "text": [
      "32/32 [==============================] - 12s 383ms/step - loss: 2.1167 - acc: 0.2715 - val_loss: 2.0169 - val_acc: 0.3400\n",
      "Epoch 6/50\n",
      "32/32 [==============================] - ETA: 0s - loss: 1.9682 - acc: 0.2939\n",
      "Epoch 6: val_loss improved from 2.01693 to 1.82199, saving model to models/model2_nobatchnorm\n",
      "INFO:tensorflow:Assets written to: models/model2_nobatchnorm/assets\n"
     ]
    },
    {
     "name": "stderr",
     "output_type": "stream",
     "text": [
      "INFO:tensorflow:Assets written to: models/model2_nobatchnorm/assets\n"
     ]
    },
    {
     "name": "stdout",
     "output_type": "stream",
     "text": [
      "32/32 [==============================] - 11s 356ms/step - loss: 1.9682 - acc: 0.2939 - val_loss: 1.8220 - val_acc: 0.3452\n",
      "Epoch 7/50\n",
      "32/32 [==============================] - ETA: 0s - loss: 1.7840 - acc: 0.3496\n",
      "Epoch 7: val_loss improved from 1.82199 to 1.70840, saving model to models/model2_nobatchnorm\n",
      "INFO:tensorflow:Assets written to: models/model2_nobatchnorm/assets\n"
     ]
    },
    {
     "name": "stderr",
     "output_type": "stream",
     "text": [
      "INFO:tensorflow:Assets written to: models/model2_nobatchnorm/assets\n"
     ]
    },
    {
     "name": "stdout",
     "output_type": "stream",
     "text": [
      "32/32 [==============================] - 10s 321ms/step - loss: 1.7840 - acc: 0.3496 - val_loss: 1.7084 - val_acc: 0.3818\n",
      "Epoch 8/50\n",
      "32/32 [==============================] - ETA: 0s - loss: 1.5739 - acc: 0.4743\n",
      "Epoch 8: val_loss improved from 1.70840 to 1.56293, saving model to models/model2_nobatchnorm\n",
      "INFO:tensorflow:Assets written to: models/model2_nobatchnorm/assets\n"
     ]
    },
    {
     "name": "stderr",
     "output_type": "stream",
     "text": [
      "INFO:tensorflow:Assets written to: models/model2_nobatchnorm/assets\n"
     ]
    },
    {
     "name": "stdout",
     "output_type": "stream",
     "text": [
      "32/32 [==============================] - 11s 355ms/step - loss: 1.5739 - acc: 0.4743 - val_loss: 1.5629 - val_acc: 0.4686\n",
      "Epoch 9/50\n",
      "32/32 [==============================] - ETA: 0s - loss: 1.6341 - acc: 0.3975\n",
      "Epoch 9: val_loss improved from 1.56293 to 1.48929, saving model to models/model2_nobatchnorm\n",
      "INFO:tensorflow:Assets written to: models/model2_nobatchnorm/assets\n"
     ]
    },
    {
     "name": "stderr",
     "output_type": "stream",
     "text": [
      "INFO:tensorflow:Assets written to: models/model2_nobatchnorm/assets\n"
     ]
    },
    {
     "name": "stdout",
     "output_type": "stream",
     "text": [
      "32/32 [==============================] - 11s 358ms/step - loss: 1.6341 - acc: 0.3975 - val_loss: 1.4893 - val_acc: 0.5178\n",
      "Epoch 10/50\n",
      "32/32 [==============================] - ETA: 0s - loss: 1.4413 - acc: 0.5068\n",
      "Epoch 10: val_loss improved from 1.48929 to 1.38562, saving model to models/model2_nobatchnorm\n",
      "INFO:tensorflow:Assets written to: models/model2_nobatchnorm/assets\n"
     ]
    },
    {
     "name": "stderr",
     "output_type": "stream",
     "text": [
      "INFO:tensorflow:Assets written to: models/model2_nobatchnorm/assets\n"
     ]
    },
    {
     "name": "stdout",
     "output_type": "stream",
     "text": [
      "32/32 [==============================] - 12s 370ms/step - loss: 1.4413 - acc: 0.5068 - val_loss: 1.3856 - val_acc: 0.5418\n",
      "Epoch 11/50\n",
      "32/32 [==============================] - ETA: 0s - loss: 1.4709 - acc: 0.4883\n",
      "Epoch 11: val_loss did not improve from 1.38562\n",
      "32/32 [==============================] - 8s 248ms/step - loss: 1.4709 - acc: 0.4883 - val_loss: 1.5036 - val_acc: 0.4833\n",
      "Epoch 12/50\n",
      "32/32 [==============================] - ETA: 0s - loss: 1.3274 - acc: 0.5455\n",
      "Epoch 12: val_loss improved from 1.38562 to 1.32596, saving model to models/model2_nobatchnorm\n",
      "INFO:tensorflow:Assets written to: models/model2_nobatchnorm/assets\n"
     ]
    },
    {
     "name": "stderr",
     "output_type": "stream",
     "text": [
      "INFO:tensorflow:Assets written to: models/model2_nobatchnorm/assets\n"
     ]
    },
    {
     "name": "stdout",
     "output_type": "stream",
     "text": [
      "32/32 [==============================] - 12s 378ms/step - loss: 1.3274 - acc: 0.5455 - val_loss: 1.3260 - val_acc: 0.5397\n",
      "Epoch 13/50\n",
      "32/32 [==============================] - ETA: 0s - loss: 1.3547 - acc: 0.5439\n",
      "Epoch 13: val_loss did not improve from 1.32596\n",
      "32/32 [==============================] - 10s 305ms/step - loss: 1.3547 - acc: 0.5439 - val_loss: 1.3378 - val_acc: 0.5492\n",
      "Epoch 14/50\n",
      "32/32 [==============================] - ETA: 0s - loss: 1.2417 - acc: 0.6016\n",
      "Epoch 14: val_loss improved from 1.32596 to 1.27500, saving model to models/model2_nobatchnorm\n",
      "INFO:tensorflow:Assets written to: models/model2_nobatchnorm/assets\n"
     ]
    },
    {
     "name": "stderr",
     "output_type": "stream",
     "text": [
      "INFO:tensorflow:Assets written to: models/model2_nobatchnorm/assets\n"
     ]
    },
    {
     "name": "stdout",
     "output_type": "stream",
     "text": [
      "32/32 [==============================] - 11s 347ms/step - loss: 1.2417 - acc: 0.6016 - val_loss: 1.2750 - val_acc: 0.5544\n",
      "Epoch 15/50\n",
      "32/32 [==============================] - ETA: 0s - loss: 1.1194 - acc: 0.6238\n",
      "Epoch 15: val_loss improved from 1.27500 to 1.20782, saving model to models/model2_nobatchnorm\n",
      "INFO:tensorflow:Assets written to: models/model2_nobatchnorm/assets\n"
     ]
    },
    {
     "name": "stderr",
     "output_type": "stream",
     "text": [
      "INFO:tensorflow:Assets written to: models/model2_nobatchnorm/assets\n"
     ]
    },
    {
     "name": "stdout",
     "output_type": "stream",
     "text": [
      "32/32 [==============================] - 10s 310ms/step - loss: 1.1194 - acc: 0.6238 - val_loss: 1.2078 - val_acc: 0.5889\n",
      "Epoch 16/50\n",
      "32/32 [==============================] - ETA: 0s - loss: 1.0978 - acc: 0.6025\n",
      "Epoch 16: val_loss improved from 1.20782 to 1.18242, saving model to models/model2_nobatchnorm\n",
      "INFO:tensorflow:Assets written to: models/model2_nobatchnorm/assets\n"
     ]
    },
    {
     "name": "stderr",
     "output_type": "stream",
     "text": [
      "INFO:tensorflow:Assets written to: models/model2_nobatchnorm/assets\n"
     ]
    },
    {
     "name": "stdout",
     "output_type": "stream",
     "text": [
      "32/32 [==============================] - 12s 381ms/step - loss: 1.0978 - acc: 0.6025 - val_loss: 1.1824 - val_acc: 0.5900\n",
      "Epoch 17/50\n",
      "32/32 [==============================] - ETA: 0s - loss: 1.0502 - acc: 0.6582\n",
      "Epoch 17: val_loss improved from 1.18242 to 1.16919, saving model to models/model2_nobatchnorm\n",
      "INFO:tensorflow:Assets written to: models/model2_nobatchnorm/assets\n"
     ]
    },
    {
     "name": "stderr",
     "output_type": "stream",
     "text": [
      "INFO:tensorflow:Assets written to: models/model2_nobatchnorm/assets\n"
     ]
    },
    {
     "name": "stdout",
     "output_type": "stream",
     "text": [
      "32/32 [==============================] - 11s 342ms/step - loss: 1.0502 - acc: 0.6582 - val_loss: 1.1692 - val_acc: 0.6328\n",
      "Epoch 18/50\n",
      "32/32 [==============================] - ETA: 0s - loss: 1.0492 - acc: 0.6553\n",
      "Epoch 18: val_loss improved from 1.16919 to 1.14846, saving model to models/model2_nobatchnorm\n",
      "INFO:tensorflow:Assets written to: models/model2_nobatchnorm/assets\n"
     ]
    },
    {
     "name": "stderr",
     "output_type": "stream",
     "text": [
      "INFO:tensorflow:Assets written to: models/model2_nobatchnorm/assets\n"
     ]
    },
    {
     "name": "stdout",
     "output_type": "stream",
     "text": [
      "32/32 [==============================] - 11s 345ms/step - loss: 1.0492 - acc: 0.6553 - val_loss: 1.1485 - val_acc: 0.6308\n",
      "Epoch 19/50\n",
      "32/32 [==============================] - ETA: 0s - loss: 1.0022 - acc: 0.6762\n",
      "Epoch 19: val_loss improved from 1.14846 to 1.10886, saving model to models/model2_nobatchnorm\n",
      "INFO:tensorflow:Assets written to: models/model2_nobatchnorm/assets\n"
     ]
    },
    {
     "name": "stderr",
     "output_type": "stream",
     "text": [
      "INFO:tensorflow:Assets written to: models/model2_nobatchnorm/assets\n"
     ]
    },
    {
     "name": "stdout",
     "output_type": "stream",
     "text": [
      "32/32 [==============================] - 10s 324ms/step - loss: 1.0022 - acc: 0.6762 - val_loss: 1.1089 - val_acc: 0.6297\n",
      "Epoch 20/50\n",
      "32/32 [==============================] - ETA: 0s - loss: 0.8714 - acc: 0.7334\n",
      "Epoch 20: val_loss did not improve from 1.10886\n",
      "32/32 [==============================] - 10s 303ms/step - loss: 0.8714 - acc: 0.7334 - val_loss: 1.1251 - val_acc: 0.6109\n",
      "Epoch 21/50\n",
      "32/32 [==============================] - ETA: 0s - loss: 0.9627 - acc: 0.7012\n",
      "Epoch 21: val_loss did not improve from 1.10886\n",
      "32/32 [==============================] - 8s 260ms/step - loss: 0.9627 - acc: 0.7012 - val_loss: 1.1708 - val_acc: 0.5889\n",
      "Epoch 22/50\n",
      "32/32 [==============================] - ETA: 0s - loss: 0.9378 - acc: 0.6992\n",
      "Epoch 22: val_loss did not improve from 1.10886\n",
      "32/32 [==============================] - 8s 264ms/step - loss: 0.9378 - acc: 0.6992 - val_loss: 1.2456 - val_acc: 0.5492\n",
      "Epoch 23/50\n",
      "32/32 [==============================] - ETA: 0s - loss: 0.8918 - acc: 0.7059\n",
      "Epoch 23: val_loss did not improve from 1.10886\n",
      "32/32 [==============================] - 9s 290ms/step - loss: 0.8918 - acc: 0.7059 - val_loss: 1.1666 - val_acc: 0.5868\n",
      "Epoch 24/50\n",
      "32/32 [==============================] - ETA: 0s - loss: 0.7903 - acc: 0.7686\n",
      "Epoch 24: val_loss did not improve from 1.10886\n",
      "32/32 [==============================] - 9s 297ms/step - loss: 0.7903 - acc: 0.7686 - val_loss: 1.1536 - val_acc: 0.5952\n",
      "Epoch 25/50\n",
      "32/32 [==============================] - ETA: 0s - loss: 0.8050 - acc: 0.7422\n",
      "Epoch 25: val_loss improved from 1.10886 to 1.09988, saving model to models/model2_nobatchnorm\n",
      "INFO:tensorflow:Assets written to: models/model2_nobatchnorm/assets\n"
     ]
    },
    {
     "name": "stderr",
     "output_type": "stream",
     "text": [
      "INFO:tensorflow:Assets written to: models/model2_nobatchnorm/assets\n"
     ]
    },
    {
     "name": "stdout",
     "output_type": "stream",
     "text": [
      "32/32 [==============================] - 11s 346ms/step - loss: 0.8050 - acc: 0.7422 - val_loss: 1.0999 - val_acc: 0.6339\n",
      "Epoch 26/50\n",
      "32/32 [==============================] - ETA: 0s - loss: 0.7847 - acc: 0.7510\n",
      "Epoch 26: val_loss did not improve from 1.09988\n",
      "32/32 [==============================] - 7s 229ms/step - loss: 0.7847 - acc: 0.7510 - val_loss: 1.1733 - val_acc: 0.6015\n",
      "Epoch 27/50\n",
      "32/32 [==============================] - ETA: 0s - loss: 0.6644 - acc: 0.7871\n",
      "Epoch 27: val_loss improved from 1.09988 to 1.06608, saving model to models/model2_nobatchnorm\n",
      "INFO:tensorflow:Assets written to: models/model2_nobatchnorm/assets\n"
     ]
    },
    {
     "name": "stderr",
     "output_type": "stream",
     "text": [
      "INFO:tensorflow:Assets written to: models/model2_nobatchnorm/assets\n"
     ]
    },
    {
     "name": "stdout",
     "output_type": "stream",
     "text": [
      "32/32 [==============================] - 12s 369ms/step - loss: 0.6644 - acc: 0.7871 - val_loss: 1.0661 - val_acc: 0.6381\n",
      "Epoch 28/50\n",
      "32/32 [==============================] - ETA: 0s - loss: 0.6253 - acc: 0.8154\n",
      "Epoch 28: val_loss improved from 1.06608 to 1.05501, saving model to models/model2_nobatchnorm\n",
      "INFO:tensorflow:Assets written to: models/model2_nobatchnorm/assets\n"
     ]
    },
    {
     "name": "stderr",
     "output_type": "stream",
     "text": [
      "INFO:tensorflow:Assets written to: models/model2_nobatchnorm/assets\n"
     ]
    },
    {
     "name": "stdout",
     "output_type": "stream",
     "text": [
      "32/32 [==============================] - 11s 358ms/step - loss: 0.6253 - acc: 0.8154 - val_loss: 1.0550 - val_acc: 0.6621\n",
      "Epoch 29/50\n",
      "32/32 [==============================] - ETA: 0s - loss: 0.6881 - acc: 0.7715\n",
      "Epoch 29: val_loss did not improve from 1.05501\n",
      "32/32 [==============================] - 10s 302ms/step - loss: 0.6881 - acc: 0.7715 - val_loss: 1.1200 - val_acc: 0.6360\n",
      "Epoch 30/50\n",
      "32/32 [==============================] - ETA: 0s - loss: 0.6802 - acc: 0.7960\n",
      "Epoch 30: val_loss improved from 1.05501 to 1.01782, saving model to models/model2_nobatchnorm\n",
      "INFO:tensorflow:Assets written to: models/model2_nobatchnorm/assets\n"
     ]
    },
    {
     "name": "stderr",
     "output_type": "stream",
     "text": [
      "INFO:tensorflow:Assets written to: models/model2_nobatchnorm/assets\n"
     ]
    },
    {
     "name": "stdout",
     "output_type": "stream",
     "text": [
      "32/32 [==============================] - 10s 335ms/step - loss: 0.6802 - acc: 0.7960 - val_loss: 1.0178 - val_acc: 0.6695\n",
      "Epoch 31/50\n",
      "32/32 [==============================] - ETA: 0s - loss: 0.5467 - acc: 0.8525\n",
      "Epoch 31: val_loss did not improve from 1.01782\n",
      "32/32 [==============================] - 9s 284ms/step - loss: 0.5467 - acc: 0.8525 - val_loss: 1.0323 - val_acc: 0.6705\n",
      "Epoch 32/50\n",
      "32/32 [==============================] - ETA: 0s - loss: 0.5769 - acc: 0.8193\n",
      "Epoch 32: val_loss improved from 1.01782 to 1.01516, saving model to models/model2_nobatchnorm\n",
      "INFO:tensorflow:Assets written to: models/model2_nobatchnorm/assets\n"
     ]
    },
    {
     "name": "stderr",
     "output_type": "stream",
     "text": [
      "INFO:tensorflow:Assets written to: models/model2_nobatchnorm/assets\n"
     ]
    },
    {
     "name": "stdout",
     "output_type": "stream",
     "text": [
      "32/32 [==============================] - 11s 340ms/step - loss: 0.5769 - acc: 0.8193 - val_loss: 1.0152 - val_acc: 0.6768\n",
      "Epoch 33/50\n",
      "32/32 [==============================] - ETA: 0s - loss: 0.4885 - acc: 0.8379\n",
      "Epoch 33: val_loss did not improve from 1.01516\n",
      "32/32 [==============================] - 9s 278ms/step - loss: 0.4885 - acc: 0.8379 - val_loss: 1.0733 - val_acc: 0.6444\n",
      "Epoch 34/50\n",
      "32/32 [==============================] - ETA: 0s - loss: 0.4931 - acc: 0.8416\n",
      "Epoch 34: val_loss did not improve from 1.01516\n",
      "32/32 [==============================] - 8s 253ms/step - loss: 0.4931 - acc: 0.8416 - val_loss: 1.0915 - val_acc: 0.6402\n",
      "Epoch 35/50\n",
      "32/32 [==============================] - ETA: 0s - loss: 0.4400 - acc: 0.8662\n",
      "Epoch 35: val_loss did not improve from 1.01516\n",
      "32/32 [==============================] - 9s 281ms/step - loss: 0.4400 - acc: 0.8662 - val_loss: 1.0882 - val_acc: 0.6433\n",
      "Epoch 36/50\n",
      "32/32 [==============================] - ETA: 0s - loss: 0.4576 - acc: 0.8701\n",
      "Epoch 36: val_loss did not improve from 1.01516\n",
      "32/32 [==============================] - 9s 291ms/step - loss: 0.4576 - acc: 0.8701 - val_loss: 1.0700 - val_acc: 0.6569\n",
      "Epoch 37/50\n",
      "32/32 [==============================] - ETA: 0s - loss: 0.3963 - acc: 0.8848\n",
      "Epoch 37: val_loss did not improve from 1.01516\n",
      "32/32 [==============================] - 8s 261ms/step - loss: 0.3963 - acc: 0.8848 - val_loss: 1.0448 - val_acc: 0.6559\n",
      "Epoch 38/50\n",
      "32/32 [==============================] - ETA: 0s - loss: 0.3468 - acc: 0.9178\n",
      "Epoch 38: val_loss did not improve from 1.01516\n",
      "32/32 [==============================] - 9s 282ms/step - loss: 0.3468 - acc: 0.9178 - val_loss: 1.1277 - val_acc: 0.6349\n",
      "Epoch 39/50\n",
      "32/32 [==============================] - ETA: 0s - loss: 0.3418 - acc: 0.9043\n",
      "Epoch 39: val_loss did not improve from 1.01516\n",
      "32/32 [==============================] - 10s 304ms/step - loss: 0.3418 - acc: 0.9043 - val_loss: 1.0757 - val_acc: 0.6569\n",
      "Epoch 40/50\n",
      "32/32 [==============================] - ETA: 0s - loss: 0.2948 - acc: 0.9209\n",
      "Epoch 40: val_loss did not improve from 1.01516\n",
      "32/32 [==============================] - 9s 277ms/step - loss: 0.2948 - acc: 0.9209 - val_loss: 1.0272 - val_acc: 0.6747\n",
      "Epoch 41/50\n",
      "32/32 [==============================] - ETA: 0s - loss: 0.2828 - acc: 0.9287\n",
      "Epoch 41: val_loss did not improve from 1.01516\n",
      "32/32 [==============================] - 9s 280ms/step - loss: 0.2828 - acc: 0.9287 - val_loss: 1.1006 - val_acc: 0.6611\n",
      "Epoch 42/50\n",
      "32/32 [==============================] - ETA: 0s - loss: 0.2468 - acc: 0.9385\n",
      "Epoch 42: val_loss did not improve from 1.01516\n",
      "32/32 [==============================] - 8s 258ms/step - loss: 0.2468 - acc: 0.9385 - val_loss: 1.1479 - val_acc: 0.6412\n",
      "Epoch 43/50\n",
      "32/32 [==============================] - ETA: 0s - loss: 0.2455 - acc: 0.9346\n",
      "Epoch 43: val_loss did not improve from 1.01516\n",
      "32/32 [==============================] - 9s 293ms/step - loss: 0.2455 - acc: 0.9346 - val_loss: 1.1204 - val_acc: 0.6527\n",
      "Epoch 44/50\n",
      "32/32 [==============================] - ETA: 0s - loss: 0.2733 - acc: 0.9385\n",
      "Epoch 44: val_loss did not improve from 1.01516\n",
      "32/32 [==============================] - 9s 297ms/step - loss: 0.2733 - acc: 0.9385 - val_loss: 1.0771 - val_acc: 0.6799\n",
      "Epoch 45/50\n",
      "32/32 [==============================] - ETA: 0s - loss: 0.1992 - acc: 0.9535\n",
      "Epoch 45: val_loss did not improve from 1.01516\n",
      "32/32 [==============================] - 8s 269ms/step - loss: 0.1992 - acc: 0.9535 - val_loss: 1.1067 - val_acc: 0.6684\n",
      "Epoch 46/50\n",
      "32/32 [==============================] - ETA: 0s - loss: 0.1834 - acc: 0.9502\n",
      "Epoch 46: val_loss did not improve from 1.01516\n",
      "32/32 [==============================] - 10s 304ms/step - loss: 0.1834 - acc: 0.9502 - val_loss: 1.1287 - val_acc: 0.6851\n",
      "Epoch 47/50\n",
      "32/32 [==============================] - ETA: 0s - loss: 0.1874 - acc: 0.9619\n",
      "Epoch 47: val_loss did not improve from 1.01516\n",
      "32/32 [==============================] - 9s 284ms/step - loss: 0.1874 - acc: 0.9619 - val_loss: 1.1761 - val_acc: 0.6506\n",
      "Epoch 48/50\n",
      "32/32 [==============================] - ETA: 0s - loss: 0.1903 - acc: 0.9502\n",
      "Epoch 48: val_loss did not improve from 1.01516\n",
      "32/32 [==============================] - 8s 252ms/step - loss: 0.1903 - acc: 0.9502 - val_loss: 1.1887 - val_acc: 0.6527\n",
      "Epoch 49/50\n",
      "32/32 [==============================] - ETA: 0s - loss: 0.1492 - acc: 0.9663\n",
      "Epoch 49: val_loss did not improve from 1.01516\n",
      "32/32 [==============================] - 9s 276ms/step - loss: 0.1492 - acc: 0.9663 - val_loss: 1.2775 - val_acc: 0.6559\n",
      "Epoch 50/50\n",
      "32/32 [==============================] - ETA: 0s - loss: 0.1468 - acc: 0.9668\n",
      "Epoch 50: val_loss did not improve from 1.01516\n",
      "32/32 [==============================] - 9s 286ms/step - loss: 0.1468 - acc: 0.9668 - val_loss: 1.2094 - val_acc: 0.6527\n",
      "Running Experiment: model3\n",
      "Model: \"sequential_4\"\n",
      "_________________________________________________________________\n",
      " Layer (type)                Output Shape              Param #   \n",
      "=================================================================\n",
      " block1 (Sequential)         (None, 112, 112, 64)      2048      \n",
      "                                                                 \n",
      " block2 (Sequential)         (None, 56, 56, 128)       74368     \n",
      "                                                                 \n",
      " block3 (Sequential)         (None, 28, 28, 256)       296192    \n",
      "                                                                 \n",
      " block4 (Sequential)         (None, 14, 14, 512)       1182208   \n",
      "                                                                 \n",
      " top_model_flatten (Flatten  (None, 100352)            0         \n",
      " )                                                               \n",
      "                                                                 \n",
      " top_model_dense_1 (Dense)   (None, 128)               12845184  \n",
      "                                                                 \n",
      " top_model_output (Dense)    (None, 12)                1548      \n",
      "                                                                 \n",
      "=================================================================\n",
      "Total params: 14401548 (54.94 MB)\n",
      "Trainable params: 14399628 (54.93 MB)\n",
      "Non-trainable params: 1920 (7.50 KB)\n",
      "_________________________________________________________________\n",
      "None\n",
      "Epoch 1/50\n"
     ]
    },
    {
     "name": "stderr",
     "output_type": "stream",
     "text": [
      "2023-11-22 10:15:41.211958: E tensorflow/core/grappler/optimizers/meta_optimizer.cc:961] layout failed: INVALID_ARGUMENT: Size of values 0 does not match size of permutation 4 @ fanin shape insequential_4/block1/dropout_10/dropout/SelectV2-2-TransposeNHWCToNCHW-LayoutOptimizer\n"
     ]
    },
    {
     "name": "stdout",
     "output_type": "stream",
     "text": [
      " 6/32 [====>.........................] - ETA: 2s - loss: 7.6353 - acc: 0.0938WARNING:tensorflow:Callback method `on_train_batch_end` is slow compared to the batch time (batch time: 0.0352s vs `on_train_batch_end` time: 0.0553s). Check your callbacks.\n"
     ]
    },
    {
     "name": "stderr",
     "output_type": "stream",
     "text": [
      "WARNING:tensorflow:Callback method `on_train_batch_end` is slow compared to the batch time (batch time: 0.0352s vs `on_train_batch_end` time: 0.0553s). Check your callbacks.\n"
     ]
    },
    {
     "name": "stdout",
     "output_type": "stream",
     "text": [
      "32/32 [==============================] - ETA: 0s - loss: 3.6515 - acc: 0.1260\n",
      "Epoch 1: val_loss improved from inf to 9.61834, saving model to models/model3\n",
      "INFO:tensorflow:Assets written to: models/model3/assets\n"
     ]
    },
    {
     "name": "stderr",
     "output_type": "stream",
     "text": [
      "INFO:tensorflow:Assets written to: models/model3/assets\n"
     ]
    },
    {
     "name": "stdout",
     "output_type": "stream",
     "text": [
      "32/32 [==============================] - 14s 346ms/step - loss: 3.6515 - acc: 0.1260 - val_loss: 9.6183 - val_acc: 0.0492\n",
      "Epoch 2/50\n",
      "32/32 [==============================] - ETA: 0s - loss: 2.1509 - acc: 0.2080\n",
      "Epoch 2: val_loss did not improve from 9.61834\n",
      "32/32 [==============================] - 10s 315ms/step - loss: 2.1509 - acc: 0.2080 - val_loss: 15.1040 - val_acc: 0.0492\n",
      "Epoch 3/50\n",
      "32/32 [==============================] - ETA: 0s - loss: 1.9234 - acc: 0.3027\n",
      "Epoch 3: val_loss did not improve from 9.61834\n",
      "32/32 [==============================] - 9s 293ms/step - loss: 1.9234 - acc: 0.3027 - val_loss: 18.5813 - val_acc: 0.0492\n",
      "Epoch 4/50\n",
      "32/32 [==============================] - ETA: 0s - loss: 1.6352 - acc: 0.4426\n",
      "Epoch 4: val_loss did not improve from 9.61834\n",
      "32/32 [==============================] - 8s 266ms/step - loss: 1.6352 - acc: 0.4426 - val_loss: 18.0186 - val_acc: 0.0492\n",
      "Epoch 5/50\n",
      "32/32 [==============================] - ETA: 0s - loss: 1.3214 - acc: 0.5479\n",
      "Epoch 5: val_loss did not improve from 9.61834\n",
      "32/32 [==============================] - 9s 271ms/step - loss: 1.3214 - acc: 0.5479 - val_loss: 13.0116 - val_acc: 0.0492\n",
      "Epoch 6/50\n",
      "32/32 [==============================] - ETA: 0s - loss: 1.2943 - acc: 0.5693\n",
      "Epoch 6: val_loss improved from 9.61834 to 8.55800, saving model to models/model3\n",
      "INFO:tensorflow:Assets written to: models/model3/assets\n"
     ]
    },
    {
     "name": "stderr",
     "output_type": "stream",
     "text": [
      "INFO:tensorflow:Assets written to: models/model3/assets\n"
     ]
    },
    {
     "name": "stdout",
     "output_type": "stream",
     "text": [
      "32/32 [==============================] - 11s 359ms/step - loss: 1.2943 - acc: 0.5693 - val_loss: 8.5580 - val_acc: 0.1297\n",
      "Epoch 7/50\n",
      "32/32 [==============================] - ETA: 0s - loss: 1.2050 - acc: 0.6006\n",
      "Epoch 7: val_loss did not improve from 8.55800\n",
      "32/32 [==============================] - 9s 279ms/step - loss: 1.2050 - acc: 0.6006 - val_loss: 8.9245 - val_acc: 0.0994\n",
      "Epoch 8/50\n",
      "32/32 [==============================] - ETA: 0s - loss: 0.9396 - acc: 0.6802\n",
      "Epoch 8: val_loss did not improve from 8.55800\n",
      "32/32 [==============================] - 9s 298ms/step - loss: 0.9396 - acc: 0.6802 - val_loss: 11.6589 - val_acc: 0.0471\n",
      "Epoch 9/50\n",
      "32/32 [==============================] - ETA: 0s - loss: 0.8190 - acc: 0.7178\n",
      "Epoch 9: val_loss did not improve from 8.55800\n",
      "32/32 [==============================] - 9s 279ms/step - loss: 0.8190 - acc: 0.7178 - val_loss: 12.7238 - val_acc: 0.0471\n",
      "Epoch 10/50\n",
      "32/32 [==============================] - ETA: 0s - loss: 0.7601 - acc: 0.7607\n",
      "Epoch 10: val_loss did not improve from 8.55800\n",
      "32/32 [==============================] - 9s 282ms/step - loss: 0.7601 - acc: 0.7607 - val_loss: 13.1066 - val_acc: 0.0471\n",
      "Epoch 11/50\n",
      "32/32 [==============================] - ETA: 0s - loss: 0.7501 - acc: 0.7480\n",
      "Epoch 11: val_loss did not improve from 8.55800\n",
      "32/32 [==============================] - 8s 264ms/step - loss: 0.7501 - acc: 0.7480 - val_loss: 11.9230 - val_acc: 0.0481\n",
      "Epoch 12/50\n",
      "32/32 [==============================] - ETA: 0s - loss: 0.5372 - acc: 0.8208\n",
      "Epoch 12: val_loss did not improve from 8.55800\n",
      "32/32 [==============================] - 10s 332ms/step - loss: 0.5372 - acc: 0.8208 - val_loss: 10.2901 - val_acc: 0.0523\n",
      "Epoch 13/50\n",
      "32/32 [==============================] - ETA: 0s - loss: 0.5034 - acc: 0.8242\n",
      "Epoch 13: val_loss did not improve from 8.55800\n",
      "32/32 [==============================] - 8s 266ms/step - loss: 0.5034 - acc: 0.8242 - val_loss: 11.8843 - val_acc: 0.0554\n",
      "Epoch 14/50\n",
      "32/32 [==============================] - ETA: 0s - loss: 0.5447 - acc: 0.8145\n",
      "Epoch 14: val_loss did not improve from 8.55800\n",
      "32/32 [==============================] - 9s 294ms/step - loss: 0.5447 - acc: 0.8145 - val_loss: 9.5655 - val_acc: 0.0628\n",
      "Epoch 15/50\n",
      "32/32 [==============================] - ETA: 0s - loss: 0.5346 - acc: 0.8287\n",
      "Epoch 15: val_loss did not improve from 8.55800\n",
      "32/32 [==============================] - 8s 253ms/step - loss: 0.5346 - acc: 0.8287 - val_loss: 11.6498 - val_acc: 0.0732\n",
      "Epoch 16/50\n",
      "32/32 [==============================] - ETA: 0s - loss: 0.2928 - acc: 0.9062\n",
      "Epoch 16: val_loss improved from 8.55800 to 7.73391, saving model to models/model3\n",
      "INFO:tensorflow:Assets written to: models/model3/assets\n"
     ]
    },
    {
     "name": "stderr",
     "output_type": "stream",
     "text": [
      "INFO:tensorflow:Assets written to: models/model3/assets\n"
     ]
    },
    {
     "name": "stdout",
     "output_type": "stream",
     "text": [
      "32/32 [==============================] - 11s 352ms/step - loss: 0.2928 - acc: 0.9062 - val_loss: 7.7339 - val_acc: 0.1015\n",
      "Epoch 17/50\n",
      "32/32 [==============================] - ETA: 0s - loss: 0.3287 - acc: 0.8926\n",
      "Epoch 17: val_loss improved from 7.73391 to 3.92148, saving model to models/model3\n",
      "INFO:tensorflow:Assets written to: models/model3/assets\n"
     ]
    },
    {
     "name": "stderr",
     "output_type": "stream",
     "text": [
      "INFO:tensorflow:Assets written to: models/model3/assets\n"
     ]
    },
    {
     "name": "stdout",
     "output_type": "stream",
     "text": [
      "32/32 [==============================] - 11s 344ms/step - loss: 0.3287 - acc: 0.8926 - val_loss: 3.9215 - val_acc: 0.2531\n",
      "Epoch 18/50\n",
      "32/32 [==============================] - ETA: 0s - loss: 0.4025 - acc: 0.8652\n",
      "Epoch 18: val_loss did not improve from 3.92148\n",
      "32/32 [==============================] - 9s 295ms/step - loss: 0.4025 - acc: 0.8652 - val_loss: 4.1531 - val_acc: 0.2782\n",
      "Epoch 19/50\n",
      "32/32 [==============================] - ETA: 0s - loss: 0.2911 - acc: 0.8980\n",
      "Epoch 19: val_loss improved from 3.92148 to 2.17994, saving model to models/model3\n",
      "INFO:tensorflow:Assets written to: models/model3/assets\n"
     ]
    },
    {
     "name": "stderr",
     "output_type": "stream",
     "text": [
      "INFO:tensorflow:Assets written to: models/model3/assets\n"
     ]
    },
    {
     "name": "stdout",
     "output_type": "stream",
     "text": [
      "32/32 [==============================] - 11s 338ms/step - loss: 0.2911 - acc: 0.8980 - val_loss: 2.1799 - val_acc: 0.4571\n",
      "Epoch 20/50\n",
      "32/32 [==============================] - ETA: 0s - loss: 0.2092 - acc: 0.9424\n",
      "Epoch 20: val_loss did not improve from 2.17994\n",
      "32/32 [==============================] - 9s 274ms/step - loss: 0.2092 - acc: 0.9424 - val_loss: 2.5658 - val_acc: 0.4121\n",
      "Epoch 21/50\n",
      "32/32 [==============================] - ETA: 0s - loss: 0.2249 - acc: 0.9336\n",
      "Epoch 21: val_loss improved from 2.17994 to 2.09064, saving model to models/model3\n",
      "INFO:tensorflow:Assets written to: models/model3/assets\n"
     ]
    },
    {
     "name": "stderr",
     "output_type": "stream",
     "text": [
      "INFO:tensorflow:Assets written to: models/model3/assets\n"
     ]
    },
    {
     "name": "stdout",
     "output_type": "stream",
     "text": [
      "32/32 [==============================] - 11s 346ms/step - loss: 0.2249 - acc: 0.9336 - val_loss: 2.0906 - val_acc: 0.4791\n",
      "Epoch 22/50\n",
      "32/32 [==============================] - ETA: 0s - loss: 0.2077 - acc: 0.9355\n",
      "Epoch 22: val_loss improved from 2.09064 to 1.81619, saving model to models/model3\n",
      "INFO:tensorflow:Assets written to: models/model3/assets\n"
     ]
    },
    {
     "name": "stderr",
     "output_type": "stream",
     "text": [
      "INFO:tensorflow:Assets written to: models/model3/assets\n"
     ]
    },
    {
     "name": "stdout",
     "output_type": "stream",
     "text": [
      "32/32 [==============================] - 11s 337ms/step - loss: 0.2077 - acc: 0.9355 - val_loss: 1.8162 - val_acc: 0.5314\n",
      "Epoch 23/50\n",
      "32/32 [==============================] - ETA: 0s - loss: 0.1589 - acc: 0.9495\n",
      "Epoch 23: val_loss improved from 1.81619 to 1.21341, saving model to models/model3\n",
      "INFO:tensorflow:Assets written to: models/model3/assets\n"
     ]
    },
    {
     "name": "stderr",
     "output_type": "stream",
     "text": [
      "INFO:tensorflow:Assets written to: models/model3/assets\n"
     ]
    },
    {
     "name": "stdout",
     "output_type": "stream",
     "text": [
      "32/32 [==============================] - 11s 355ms/step - loss: 0.1589 - acc: 0.9495 - val_loss: 1.2134 - val_acc: 0.6600\n",
      "Epoch 24/50\n",
      "32/32 [==============================] - ETA: 0s - loss: 0.1208 - acc: 0.9727\n",
      "Epoch 24: val_loss improved from 1.21341 to 0.98198, saving model to models/model3\n",
      "INFO:tensorflow:Assets written to: models/model3/assets\n"
     ]
    },
    {
     "name": "stderr",
     "output_type": "stream",
     "text": [
      "INFO:tensorflow:Assets written to: models/model3/assets\n"
     ]
    },
    {
     "name": "stdout",
     "output_type": "stream",
     "text": [
      "32/32 [==============================] - 11s 345ms/step - loss: 0.1208 - acc: 0.9727 - val_loss: 0.9820 - val_acc: 0.7029\n",
      "Epoch 25/50\n",
      "32/32 [==============================] - ETA: 0s - loss: 0.1147 - acc: 0.9805\n",
      "Epoch 25: val_loss improved from 0.98198 to 0.93591, saving model to models/model3\n",
      "INFO:tensorflow:Assets written to: models/model3/assets\n"
     ]
    },
    {
     "name": "stderr",
     "output_type": "stream",
     "text": [
      "INFO:tensorflow:Assets written to: models/model3/assets\n"
     ]
    },
    {
     "name": "stdout",
     "output_type": "stream",
     "text": [
      "32/32 [==============================] - 12s 369ms/step - loss: 0.1147 - acc: 0.9805 - val_loss: 0.9359 - val_acc: 0.7249\n",
      "Epoch 26/50\n",
      "32/32 [==============================] - ETA: 0s - loss: 0.1158 - acc: 0.9639\n",
      "Epoch 26: val_loss improved from 0.93591 to 0.85112, saving model to models/model3\n",
      "INFO:tensorflow:Assets written to: models/model3/assets\n"
     ]
    },
    {
     "name": "stderr",
     "output_type": "stream",
     "text": [
      "INFO:tensorflow:Assets written to: models/model3/assets\n"
     ]
    },
    {
     "name": "stdout",
     "output_type": "stream",
     "text": [
      "32/32 [==============================] - 10s 302ms/step - loss: 0.1158 - acc: 0.9639 - val_loss: 0.8511 - val_acc: 0.7395\n",
      "Epoch 27/50\n",
      "32/32 [==============================] - ETA: 0s - loss: 0.0704 - acc: 0.9812\n",
      "Epoch 27: val_loss improved from 0.85112 to 0.80031, saving model to models/model3\n",
      "INFO:tensorflow:Assets written to: models/model3/assets\n"
     ]
    },
    {
     "name": "stderr",
     "output_type": "stream",
     "text": [
      "INFO:tensorflow:Assets written to: models/model3/assets\n"
     ]
    },
    {
     "name": "stdout",
     "output_type": "stream",
     "text": [
      "32/32 [==============================] - 12s 372ms/step - loss: 0.0704 - acc: 0.9812 - val_loss: 0.8003 - val_acc: 0.7500\n",
      "Epoch 28/50\n",
      "32/32 [==============================] - ETA: 0s - loss: 0.0623 - acc: 0.9893\n",
      "Epoch 28: val_loss improved from 0.80031 to 0.69178, saving model to models/model3\n",
      "INFO:tensorflow:Assets written to: models/model3/assets\n"
     ]
    },
    {
     "name": "stderr",
     "output_type": "stream",
     "text": [
      "INFO:tensorflow:Assets written to: models/model3/assets\n"
     ]
    },
    {
     "name": "stdout",
     "output_type": "stream",
     "text": [
      "32/32 [==============================] - 11s 360ms/step - loss: 0.0623 - acc: 0.9893 - val_loss: 0.6918 - val_acc: 0.7950\n",
      "Epoch 29/50\n",
      "32/32 [==============================] - ETA: 0s - loss: 0.0679 - acc: 0.9893\n",
      "Epoch 29: val_loss did not improve from 0.69178\n",
      "32/32 [==============================] - 9s 298ms/step - loss: 0.0679 - acc: 0.9893 - val_loss: 0.7160 - val_acc: 0.7824\n",
      "Epoch 30/50\n",
      "32/32 [==============================] - ETA: 0s - loss: 0.0652 - acc: 0.9881\n",
      "Epoch 30: val_loss did not improve from 0.69178\n",
      "32/32 [==============================] - 8s 259ms/step - loss: 0.0652 - acc: 0.9881 - val_loss: 0.7201 - val_acc: 0.7824\n",
      "Epoch 31/50\n",
      "32/32 [==============================] - ETA: 0s - loss: 0.0552 - acc: 0.9941\n",
      "Epoch 31: val_loss did not improve from 0.69178\n",
      "32/32 [==============================] - 9s 280ms/step - loss: 0.0552 - acc: 0.9941 - val_loss: 0.7534 - val_acc: 0.7897\n",
      "Epoch 32/50\n",
      "32/32 [==============================] - ETA: 0s - loss: 0.0611 - acc: 0.9814\n",
      "Epoch 32: val_loss did not improve from 0.69178\n",
      "32/32 [==============================] - 9s 280ms/step - loss: 0.0611 - acc: 0.9814 - val_loss: 0.7517 - val_acc: 0.7866\n",
      "Epoch 33/50\n",
      "32/32 [==============================] - ETA: 0s - loss: 0.0582 - acc: 0.9863\n",
      "Epoch 33: val_loss did not improve from 0.69178\n",
      "32/32 [==============================] - 9s 291ms/step - loss: 0.0582 - acc: 0.9863 - val_loss: 0.8301 - val_acc: 0.7782\n",
      "Epoch 34/50\n",
      "32/32 [==============================] - ETA: 0s - loss: 0.0371 - acc: 0.9970\n",
      "Epoch 34: val_loss improved from 0.69178 to 0.67086, saving model to models/model3\n",
      "INFO:tensorflow:Assets written to: models/model3/assets\n"
     ]
    },
    {
     "name": "stderr",
     "output_type": "stream",
     "text": [
      "INFO:tensorflow:Assets written to: models/model3/assets\n"
     ]
    },
    {
     "name": "stdout",
     "output_type": "stream",
     "text": [
      "32/32 [==============================] - 11s 339ms/step - loss: 0.0371 - acc: 0.9970 - val_loss: 0.6709 - val_acc: 0.7992\n",
      "Epoch 35/50\n",
      "32/32 [==============================] - ETA: 0s - loss: 0.0302 - acc: 0.9980\n",
      "Epoch 35: val_loss did not improve from 0.67086\n",
      "32/32 [==============================] - 9s 294ms/step - loss: 0.0302 - acc: 0.9980 - val_loss: 0.6806 - val_acc: 0.8023\n",
      "Epoch 36/50\n",
      "32/32 [==============================] - ETA: 0s - loss: 0.0265 - acc: 0.9971\n",
      "Epoch 36: val_loss improved from 0.67086 to 0.65103, saving model to models/model3\n",
      "INFO:tensorflow:Assets written to: models/model3/assets\n"
     ]
    },
    {
     "name": "stderr",
     "output_type": "stream",
     "text": [
      "INFO:tensorflow:Assets written to: models/model3/assets\n"
     ]
    },
    {
     "name": "stdout",
     "output_type": "stream",
     "text": [
      "32/32 [==============================] - 11s 348ms/step - loss: 0.0265 - acc: 0.9971 - val_loss: 0.6510 - val_acc: 0.8054\n",
      "Epoch 37/50\n",
      "32/32 [==============================] - ETA: 0s - loss: 0.0285 - acc: 0.9951\n",
      "Epoch 37: val_loss improved from 0.65103 to 0.62056, saving model to models/model3\n",
      "INFO:tensorflow:Assets written to: models/model3/assets\n"
     ]
    },
    {
     "name": "stderr",
     "output_type": "stream",
     "text": [
      "INFO:tensorflow:Assets written to: models/model3/assets\n"
     ]
    },
    {
     "name": "stdout",
     "output_type": "stream",
     "text": [
      "32/32 [==============================] - 10s 321ms/step - loss: 0.0285 - acc: 0.9951 - val_loss: 0.6206 - val_acc: 0.8128\n",
      "Epoch 38/50\n",
      "32/32 [==============================] - ETA: 0s - loss: 0.0247 - acc: 0.9980\n",
      "Epoch 38: val_loss did not improve from 0.62056\n",
      "32/32 [==============================] - 9s 285ms/step - loss: 0.0247 - acc: 0.9980 - val_loss: 0.7422 - val_acc: 0.7845\n",
      "Epoch 39/50\n",
      "32/32 [==============================] - ETA: 0s - loss: 0.0211 - acc: 0.9990\n",
      "Epoch 39: val_loss did not improve from 0.62056\n",
      "32/32 [==============================] - 9s 283ms/step - loss: 0.0211 - acc: 0.9990 - val_loss: 0.6571 - val_acc: 0.8075\n",
      "Epoch 40/50\n",
      "32/32 [==============================] - ETA: 0s - loss: 0.0205 - acc: 0.9990\n",
      "Epoch 40: val_loss did not improve from 0.62056\n",
      "32/32 [==============================] - 9s 274ms/step - loss: 0.0205 - acc: 0.9990 - val_loss: 0.6300 - val_acc: 0.8222\n",
      "Epoch 41/50\n",
      "32/32 [==============================] - ETA: 0s - loss: 0.0200 - acc: 0.9990\n",
      "Epoch 41: val_loss did not improve from 0.62056\n",
      "32/32 [==============================] - 8s 259ms/step - loss: 0.0200 - acc: 0.9990 - val_loss: 0.7057 - val_acc: 0.8159\n",
      "Epoch 42/50\n",
      "32/32 [==============================] - ETA: 0s - loss: 0.0161 - acc: 0.9990\n",
      "Epoch 42: val_loss did not improve from 0.62056\n",
      "32/32 [==============================] - 9s 276ms/step - loss: 0.0161 - acc: 0.9990 - val_loss: 0.6606 - val_acc: 0.8222\n",
      "Epoch 43/50\n",
      "32/32 [==============================] - ETA: 0s - loss: 0.0163 - acc: 0.9990\n",
      "Epoch 43: val_loss did not improve from 0.62056\n",
      "32/32 [==============================] - 10s 302ms/step - loss: 0.0163 - acc: 0.9990 - val_loss: 0.6462 - val_acc: 0.8264\n",
      "Epoch 44/50\n",
      "32/32 [==============================] - ETA: 0s - loss: 0.0198 - acc: 0.9971\n",
      "Epoch 44: val_loss did not improve from 0.62056\n",
      "32/32 [==============================] - 8s 267ms/step - loss: 0.0198 - acc: 0.9971 - val_loss: 0.7397 - val_acc: 0.7971\n",
      "Epoch 45/50\n",
      "32/32 [==============================] - ETA: 0s - loss: 0.0182 - acc: 0.9980\n",
      "Epoch 45: val_loss did not improve from 0.62056\n",
      "32/32 [==============================] - 8s 266ms/step - loss: 0.0182 - acc: 0.9980 - val_loss: 0.7170 - val_acc: 0.8033\n",
      "Epoch 46/50\n",
      "32/32 [==============================] - ETA: 0s - loss: 0.0130 - acc: 0.9990\n",
      "Epoch 46: val_loss did not improve from 0.62056\n",
      "32/32 [==============================] - 9s 291ms/step - loss: 0.0130 - acc: 0.9990 - val_loss: 0.6387 - val_acc: 0.8201\n",
      "Epoch 47/50\n",
      "32/32 [==============================] - ETA: 0s - loss: 0.0099 - acc: 1.0000\n",
      "Epoch 47: val_loss did not improve from 0.62056\n",
      "32/32 [==============================] - 9s 281ms/step - loss: 0.0099 - acc: 1.0000 - val_loss: 0.6505 - val_acc: 0.8159\n",
      "Epoch 48/50\n",
      "32/32 [==============================] - ETA: 0s - loss: 0.0117 - acc: 0.9990\n",
      "Epoch 48: val_loss improved from 0.62056 to 0.60669, saving model to models/model3\n",
      "INFO:tensorflow:Assets written to: models/model3/assets\n"
     ]
    },
    {
     "name": "stderr",
     "output_type": "stream",
     "text": [
      "INFO:tensorflow:Assets written to: models/model3/assets\n"
     ]
    },
    {
     "name": "stdout",
     "output_type": "stream",
     "text": [
      "32/32 [==============================] - 10s 332ms/step - loss: 0.0117 - acc: 0.9990 - val_loss: 0.6067 - val_acc: 0.8253\n",
      "Epoch 49/50\n",
      "32/32 [==============================] - ETA: 0s - loss: 0.0152 - acc: 0.9980\n",
      "Epoch 49: val_loss did not improve from 0.60669\n",
      "32/32 [==============================] - 10s 300ms/step - loss: 0.0152 - acc: 0.9980 - val_loss: 0.6317 - val_acc: 0.8285\n",
      "Epoch 50/50\n",
      "32/32 [==============================] - ETA: 0s - loss: 0.0096 - acc: 1.0000\n",
      "Epoch 50: val_loss improved from 0.60669 to 0.60369, saving model to models/model3\n",
      "INFO:tensorflow:Assets written to: models/model3/assets\n"
     ]
    },
    {
     "name": "stderr",
     "output_type": "stream",
     "text": [
      "INFO:tensorflow:Assets written to: models/model3/assets\n"
     ]
    },
    {
     "name": "stdout",
     "output_type": "stream",
     "text": [
      "32/32 [==============================] - 12s 385ms/step - loss: 0.0096 - acc: 1.0000 - val_loss: 0.6037 - val_acc: 0.8358\n",
      "Running Experiment: model3_nobatchnorm\n",
      "Model: \"sequential_5\"\n",
      "_________________________________________________________________\n",
      " Layer (type)                Output Shape              Param #   \n",
      "=================================================================\n",
      " block1 (Sequential)         (None, 112, 112, 64)      1792      \n",
      "                                                                 \n",
      " block2 (Sequential)         (None, 56, 56, 128)       73856     \n",
      "                                                                 \n",
      " block3 (Sequential)         (None, 28, 28, 256)       295168    \n",
      "                                                                 \n",
      " block4 (Sequential)         (None, 14, 14, 512)       1180160   \n",
      "                                                                 \n",
      " top_model_flatten (Flatten  (None, 100352)            0         \n",
      " )                                                               \n",
      "                                                                 \n",
      " top_model_dense_1 (Dense)   (None, 128)               12845184  \n",
      "                                                                 \n",
      " top_model_output (Dense)    (None, 12)                1548      \n",
      "                                                                 \n",
      "=================================================================\n",
      "Total params: 14397708 (54.92 MB)\n",
      "Trainable params: 14397708 (54.92 MB)\n",
      "Non-trainable params: 0 (0.00 Byte)\n",
      "_________________________________________________________________\n",
      "None\n",
      "Epoch 1/50\n"
     ]
    },
    {
     "name": "stderr",
     "output_type": "stream",
     "text": [
      "2023-11-22 10:23:48.422689: E tensorflow/core/grappler/optimizers/meta_optimizer.cc:961] layout failed: INVALID_ARGUMENT: Size of values 0 does not match size of permutation 4 @ fanin shape insequential_5/block1/dropout_14/dropout/SelectV2-2-TransposeNHWCToNCHW-LayoutOptimizer\n"
     ]
    },
    {
     "name": "stdout",
     "output_type": "stream",
     "text": [
      " 6/32 [====>.........................] - ETA: 2s - loss: 2.5013 - acc: 0.1146WARNING:tensorflow:Callback method `on_train_batch_end` is slow compared to the batch time (batch time: 0.0254s vs `on_train_batch_end` time: 0.0441s). Check your callbacks.\n"
     ]
    },
    {
     "name": "stderr",
     "output_type": "stream",
     "text": [
      "WARNING:tensorflow:Callback method `on_train_batch_end` is slow compared to the batch time (batch time: 0.0254s vs `on_train_batch_end` time: 0.0441s). Check your callbacks.\n"
     ]
    },
    {
     "name": "stdout",
     "output_type": "stream",
     "text": [
      "32/32 [==============================] - ETA: 0s - loss: 2.4849 - acc: 0.0947\n",
      "Epoch 1: val_loss improved from inf to 2.48300, saving model to models/model3_nobatchnorm\n",
      "INFO:tensorflow:Assets written to: models/model3_nobatchnorm/assets\n"
     ]
    },
    {
     "name": "stderr",
     "output_type": "stream",
     "text": [
      "INFO:tensorflow:Assets written to: models/model3_nobatchnorm/assets\n"
     ]
    },
    {
     "name": "stdout",
     "output_type": "stream",
     "text": [
      "32/32 [==============================] - 11s 311ms/step - loss: 2.4849 - acc: 0.0947 - val_loss: 2.4830 - val_acc: 0.0554\n",
      "Epoch 2/50\n",
      "32/32 [==============================] - ETA: 0s - loss: 2.4727 - acc: 0.0801\n",
      "Epoch 2: val_loss improved from 2.48300 to 2.46596, saving model to models/model3_nobatchnorm\n",
      "INFO:tensorflow:Assets written to: models/model3_nobatchnorm/assets\n"
     ]
    },
    {
     "name": "stderr",
     "output_type": "stream",
     "text": [
      "INFO:tensorflow:Assets written to: models/model3_nobatchnorm/assets\n"
     ]
    },
    {
     "name": "stdout",
     "output_type": "stream",
     "text": [
      "32/32 [==============================] - 11s 348ms/step - loss: 2.4727 - acc: 0.0801 - val_loss: 2.4660 - val_acc: 0.0554\n",
      "Epoch 3/50\n",
      "32/32 [==============================] - ETA: 0s - loss: 2.4049 - acc: 0.1357\n",
      "Epoch 3: val_loss improved from 2.46596 to 2.35510, saving model to models/model3_nobatchnorm\n",
      "INFO:tensorflow:Assets written to: models/model3_nobatchnorm/assets\n"
     ]
    },
    {
     "name": "stderr",
     "output_type": "stream",
     "text": [
      "INFO:tensorflow:Assets written to: models/model3_nobatchnorm/assets\n"
     ]
    },
    {
     "name": "stdout",
     "output_type": "stream",
     "text": [
      "32/32 [==============================] - 10s 324ms/step - loss: 2.4049 - acc: 0.1357 - val_loss: 2.3551 - val_acc: 0.1548\n",
      "Epoch 4/50\n",
      "32/32 [==============================] - ETA: 0s - loss: 2.1518 - acc: 0.2535\n",
      "Epoch 4: val_loss improved from 2.35510 to 1.98965, saving model to models/model3_nobatchnorm\n",
      "INFO:tensorflow:Assets written to: models/model3_nobatchnorm/assets\n"
     ]
    },
    {
     "name": "stderr",
     "output_type": "stream",
     "text": [
      "INFO:tensorflow:Assets written to: models/model3_nobatchnorm/assets\n"
     ]
    },
    {
     "name": "stdout",
     "output_type": "stream",
     "text": [
      "32/32 [==============================] - 10s 304ms/step - loss: 2.1518 - acc: 0.2535 - val_loss: 1.9897 - val_acc: 0.2678\n",
      "Epoch 5/50\n",
      "32/32 [==============================] - ETA: 0s - loss: 1.8326 - acc: 0.3135\n",
      "Epoch 5: val_loss improved from 1.98965 to 1.86128, saving model to models/model3_nobatchnorm\n",
      "INFO:tensorflow:Assets written to: models/model3_nobatchnorm/assets\n"
     ]
    },
    {
     "name": "stderr",
     "output_type": "stream",
     "text": [
      "INFO:tensorflow:Assets written to: models/model3_nobatchnorm/assets\n"
     ]
    },
    {
     "name": "stdout",
     "output_type": "stream",
     "text": [
      "32/32 [==============================] - 11s 335ms/step - loss: 1.8326 - acc: 0.3135 - val_loss: 1.8613 - val_acc: 0.3766\n",
      "Epoch 6/50\n",
      "32/32 [==============================] - ETA: 0s - loss: 1.7738 - acc: 0.3662\n",
      "Epoch 6: val_loss improved from 1.86128 to 1.73315, saving model to models/model3_nobatchnorm\n",
      "INFO:tensorflow:Assets written to: models/model3_nobatchnorm/assets\n"
     ]
    },
    {
     "name": "stderr",
     "output_type": "stream",
     "text": [
      "INFO:tensorflow:Assets written to: models/model3_nobatchnorm/assets\n"
     ]
    },
    {
     "name": "stdout",
     "output_type": "stream",
     "text": [
      "32/32 [==============================] - 11s 364ms/step - loss: 1.7738 - acc: 0.3662 - val_loss: 1.7331 - val_acc: 0.3944\n",
      "Epoch 7/50\n",
      "32/32 [==============================] - ETA: 0s - loss: 1.7972 - acc: 0.3184\n",
      "Epoch 7: val_loss improved from 1.73315 to 1.64987, saving model to models/model3_nobatchnorm\n",
      "INFO:tensorflow:Assets written to: models/model3_nobatchnorm/assets\n"
     ]
    },
    {
     "name": "stderr",
     "output_type": "stream",
     "text": [
      "INFO:tensorflow:Assets written to: models/model3_nobatchnorm/assets\n"
     ]
    },
    {
     "name": "stdout",
     "output_type": "stream",
     "text": [
      "32/32 [==============================] - 10s 301ms/step - loss: 1.7972 - acc: 0.3184 - val_loss: 1.6499 - val_acc: 0.4027\n",
      "Epoch 8/50\n",
      "32/32 [==============================] - ETA: 0s - loss: 1.5575 - acc: 0.4386\n",
      "Epoch 8: val_loss improved from 1.64987 to 1.57425, saving model to models/model3_nobatchnorm\n",
      "INFO:tensorflow:Assets written to: models/model3_nobatchnorm/assets\n"
     ]
    },
    {
     "name": "stderr",
     "output_type": "stream",
     "text": [
      "INFO:tensorflow:Assets written to: models/model3_nobatchnorm/assets\n"
     ]
    },
    {
     "name": "stdout",
     "output_type": "stream",
     "text": [
      "32/32 [==============================] - 10s 300ms/step - loss: 1.5575 - acc: 0.4386 - val_loss: 1.5742 - val_acc: 0.4299\n",
      "Epoch 9/50\n",
      "32/32 [==============================] - ETA: 0s - loss: 1.5832 - acc: 0.4414\n",
      "Epoch 9: val_loss improved from 1.57425 to 1.56889, saving model to models/model3_nobatchnorm\n",
      "INFO:tensorflow:Assets written to: models/model3_nobatchnorm/assets\n"
     ]
    },
    {
     "name": "stderr",
     "output_type": "stream",
     "text": [
      "INFO:tensorflow:Assets written to: models/model3_nobatchnorm/assets\n"
     ]
    },
    {
     "name": "stdout",
     "output_type": "stream",
     "text": [
      "32/32 [==============================] - 10s 331ms/step - loss: 1.5832 - acc: 0.4414 - val_loss: 1.5689 - val_acc: 0.3870\n",
      "Epoch 10/50\n",
      "32/32 [==============================] - ETA: 0s - loss: 1.4707 - acc: 0.4531\n",
      "Epoch 10: val_loss improved from 1.56889 to 1.53127, saving model to models/model3_nobatchnorm\n",
      "INFO:tensorflow:Assets written to: models/model3_nobatchnorm/assets\n"
     ]
    },
    {
     "name": "stderr",
     "output_type": "stream",
     "text": [
      "INFO:tensorflow:Assets written to: models/model3_nobatchnorm/assets\n"
     ]
    },
    {
     "name": "stdout",
     "output_type": "stream",
     "text": [
      "32/32 [==============================] - 11s 346ms/step - loss: 1.4707 - acc: 0.4531 - val_loss: 1.5313 - val_acc: 0.4854\n",
      "Epoch 11/50\n",
      "32/32 [==============================] - ETA: 0s - loss: 1.4313 - acc: 0.5137\n",
      "Epoch 11: val_loss improved from 1.53127 to 1.46490, saving model to models/model3_nobatchnorm\n",
      "INFO:tensorflow:Assets written to: models/model3_nobatchnorm/assets\n"
     ]
    },
    {
     "name": "stderr",
     "output_type": "stream",
     "text": [
      "INFO:tensorflow:Assets written to: models/model3_nobatchnorm/assets\n"
     ]
    },
    {
     "name": "stdout",
     "output_type": "stream",
     "text": [
      "32/32 [==============================] - 10s 317ms/step - loss: 1.4313 - acc: 0.5137 - val_loss: 1.4649 - val_acc: 0.5084\n",
      "Epoch 12/50\n",
      "32/32 [==============================] - ETA: 0s - loss: 1.3091 - acc: 0.5337\n",
      "Epoch 12: val_loss improved from 1.46490 to 1.33710, saving model to models/model3_nobatchnorm\n",
      "INFO:tensorflow:Assets written to: models/model3_nobatchnorm/assets\n"
     ]
    },
    {
     "name": "stderr",
     "output_type": "stream",
     "text": [
      "INFO:tensorflow:Assets written to: models/model3_nobatchnorm/assets\n"
     ]
    },
    {
     "name": "stdout",
     "output_type": "stream",
     "text": [
      "32/32 [==============================] - 11s 338ms/step - loss: 1.3091 - acc: 0.5337 - val_loss: 1.3371 - val_acc: 0.5879\n",
      "Epoch 13/50\n",
      "32/32 [==============================] - ETA: 0s - loss: 1.2319 - acc: 0.5840\n",
      "Epoch 13: val_loss improved from 1.33710 to 1.29914, saving model to models/model3_nobatchnorm\n",
      "INFO:tensorflow:Assets written to: models/model3_nobatchnorm/assets\n"
     ]
    },
    {
     "name": "stderr",
     "output_type": "stream",
     "text": [
      "INFO:tensorflow:Assets written to: models/model3_nobatchnorm/assets\n"
     ]
    },
    {
     "name": "stdout",
     "output_type": "stream",
     "text": [
      "32/32 [==============================] - 10s 310ms/step - loss: 1.2319 - acc: 0.5840 - val_loss: 1.2991 - val_acc: 0.5533\n",
      "Epoch 14/50\n",
      "32/32 [==============================] - ETA: 0s - loss: 1.2154 - acc: 0.5781\n",
      "Epoch 14: val_loss improved from 1.29914 to 1.29069, saving model to models/model3_nobatchnorm\n",
      "INFO:tensorflow:Assets written to: models/model3_nobatchnorm/assets\n"
     ]
    },
    {
     "name": "stderr",
     "output_type": "stream",
     "text": [
      "INFO:tensorflow:Assets written to: models/model3_nobatchnorm/assets\n"
     ]
    },
    {
     "name": "stdout",
     "output_type": "stream",
     "text": [
      "32/32 [==============================] - 11s 362ms/step - loss: 1.2154 - acc: 0.5781 - val_loss: 1.2907 - val_acc: 0.5722\n",
      "Epoch 15/50\n",
      "32/32 [==============================] - ETA: 0s - loss: 1.1232 - acc: 0.6376\n",
      "Epoch 15: val_loss improved from 1.29069 to 1.17222, saving model to models/model3_nobatchnorm\n",
      "INFO:tensorflow:Assets written to: models/model3_nobatchnorm/assets\n"
     ]
    },
    {
     "name": "stderr",
     "output_type": "stream",
     "text": [
      "INFO:tensorflow:Assets written to: models/model3_nobatchnorm/assets\n"
     ]
    },
    {
     "name": "stdout",
     "output_type": "stream",
     "text": [
      "32/32 [==============================] - 9s 287ms/step - loss: 1.1232 - acc: 0.6376 - val_loss: 1.1722 - val_acc: 0.6255\n",
      "Epoch 16/50\n",
      "32/32 [==============================] - ETA: 0s - loss: 1.0652 - acc: 0.6357\n",
      "Epoch 16: val_loss did not improve from 1.17222\n",
      "32/32 [==============================] - 9s 280ms/step - loss: 1.0652 - acc: 0.6357 - val_loss: 1.2217 - val_acc: 0.5659\n",
      "Epoch 17/50\n",
      "32/32 [==============================] - ETA: 0s - loss: 0.9740 - acc: 0.6768\n",
      "Epoch 17: val_loss improved from 1.17222 to 1.15888, saving model to models/model3_nobatchnorm\n",
      "INFO:tensorflow:Assets written to: models/model3_nobatchnorm/assets\n"
     ]
    },
    {
     "name": "stderr",
     "output_type": "stream",
     "text": [
      "INFO:tensorflow:Assets written to: models/model3_nobatchnorm/assets\n"
     ]
    },
    {
     "name": "stdout",
     "output_type": "stream",
     "text": [
      "32/32 [==============================] - 10s 318ms/step - loss: 0.9740 - acc: 0.6768 - val_loss: 1.1589 - val_acc: 0.5994\n",
      "Epoch 18/50\n",
      "32/32 [==============================] - ETA: 0s - loss: 0.9955 - acc: 0.6846\n",
      "Epoch 18: val_loss did not improve from 1.15888\n",
      "32/32 [==============================] - 9s 287ms/step - loss: 0.9955 - acc: 0.6846 - val_loss: 1.2766 - val_acc: 0.5397\n",
      "Epoch 19/50\n",
      "32/32 [==============================] - ETA: 0s - loss: 0.9484 - acc: 0.6624\n",
      "Epoch 19: val_loss improved from 1.15888 to 1.00563, saving model to models/model3_nobatchnorm\n",
      "INFO:tensorflow:Assets written to: models/model3_nobatchnorm/assets\n"
     ]
    },
    {
     "name": "stderr",
     "output_type": "stream",
     "text": [
      "INFO:tensorflow:Assets written to: models/model3_nobatchnorm/assets\n"
     ]
    },
    {
     "name": "stdout",
     "output_type": "stream",
     "text": [
      "32/32 [==============================] - 10s 326ms/step - loss: 0.9484 - acc: 0.6624 - val_loss: 1.0056 - val_acc: 0.6757\n",
      "Epoch 20/50\n",
      "32/32 [==============================] - ETA: 0s - loss: 0.8383 - acc: 0.7393\n",
      "Epoch 20: val_loss did not improve from 1.00563\n",
      "32/32 [==============================] - 9s 276ms/step - loss: 0.8383 - acc: 0.7393 - val_loss: 1.0421 - val_acc: 0.6381\n",
      "Epoch 21/50\n",
      "32/32 [==============================] - ETA: 0s - loss: 0.8686 - acc: 0.6934\n",
      "Epoch 21: val_loss did not improve from 1.00563\n",
      "32/32 [==============================] - 8s 269ms/step - loss: 0.8686 - acc: 0.6934 - val_loss: 1.1638 - val_acc: 0.5722\n",
      "Epoch 22/50\n",
      "32/32 [==============================] - ETA: 0s - loss: 0.8147 - acc: 0.7461\n",
      "Epoch 22: val_loss improved from 1.00563 to 0.97743, saving model to models/model3_nobatchnorm\n",
      "INFO:tensorflow:Assets written to: models/model3_nobatchnorm/assets\n"
     ]
    },
    {
     "name": "stderr",
     "output_type": "stream",
     "text": [
      "INFO:tensorflow:Assets written to: models/model3_nobatchnorm/assets\n"
     ]
    },
    {
     "name": "stdout",
     "output_type": "stream",
     "text": [
      "32/32 [==============================] - 10s 313ms/step - loss: 0.8147 - acc: 0.7461 - val_loss: 0.9774 - val_acc: 0.6757\n",
      "Epoch 23/50\n",
      "32/32 [==============================] - ETA: 0s - loss: 0.7398 - acc: 0.7653\n",
      "Epoch 23: val_loss did not improve from 0.97743\n",
      "32/32 [==============================] - 10s 310ms/step - loss: 0.7398 - acc: 0.7653 - val_loss: 0.9818 - val_acc: 0.6569\n",
      "Epoch 24/50\n",
      "32/32 [==============================] - ETA: 0s - loss: 0.6273 - acc: 0.7822\n",
      "Epoch 24: val_loss improved from 0.97743 to 0.88163, saving model to models/model3_nobatchnorm\n",
      "INFO:tensorflow:Assets written to: models/model3_nobatchnorm/assets\n"
     ]
    },
    {
     "name": "stderr",
     "output_type": "stream",
     "text": [
      "INFO:tensorflow:Assets written to: models/model3_nobatchnorm/assets\n"
     ]
    },
    {
     "name": "stdout",
     "output_type": "stream",
     "text": [
      "32/32 [==============================] - 11s 359ms/step - loss: 0.6273 - acc: 0.7822 - val_loss: 0.8816 - val_acc: 0.7155\n",
      "Epoch 25/50\n",
      "32/32 [==============================] - ETA: 0s - loss: 0.6911 - acc: 0.7559\n",
      "Epoch 25: val_loss did not improve from 0.88163\n",
      "32/32 [==============================] - 10s 314ms/step - loss: 0.6911 - acc: 0.7559 - val_loss: 0.9207 - val_acc: 0.7029\n",
      "Epoch 26/50\n",
      "32/32 [==============================] - ETA: 0s - loss: 0.7634 - acc: 0.7539\n",
      "Epoch 26: val_loss did not improve from 0.88163\n",
      "32/32 [==============================] - 8s 243ms/step - loss: 0.7634 - acc: 0.7539 - val_loss: 1.0229 - val_acc: 0.6276\n",
      "Epoch 27/50\n",
      "32/32 [==============================] - ETA: 0s - loss: 0.6422 - acc: 0.7960\n",
      "Epoch 27: val_loss did not improve from 0.88163\n",
      "32/32 [==============================] - 11s 336ms/step - loss: 0.6422 - acc: 0.7960 - val_loss: 0.9373 - val_acc: 0.6977\n",
      "Epoch 28/50\n",
      "32/32 [==============================] - ETA: 0s - loss: 0.6026 - acc: 0.8135\n",
      "Epoch 28: val_loss did not improve from 0.88163\n",
      "32/32 [==============================] - 8s 268ms/step - loss: 0.6026 - acc: 0.8135 - val_loss: 0.8865 - val_acc: 0.7082\n",
      "Epoch 29/50\n",
      "32/32 [==============================] - ETA: 0s - loss: 0.5640 - acc: 0.8086\n",
      "Epoch 29: val_loss did not improve from 0.88163\n",
      "32/32 [==============================] - 8s 268ms/step - loss: 0.5640 - acc: 0.8086 - val_loss: 0.9380 - val_acc: 0.6768\n",
      "Epoch 30/50\n",
      "32/32 [==============================] - ETA: 0s - loss: 0.5833 - acc: 0.8129\n",
      "Epoch 30: val_loss improved from 0.88163 to 0.84227, saving model to models/model3_nobatchnorm\n",
      "INFO:tensorflow:Assets written to: models/model3_nobatchnorm/assets\n"
     ]
    },
    {
     "name": "stderr",
     "output_type": "stream",
     "text": [
      "INFO:tensorflow:Assets written to: models/model3_nobatchnorm/assets\n"
     ]
    },
    {
     "name": "stdout",
     "output_type": "stream",
     "text": [
      "32/32 [==============================] - 11s 339ms/step - loss: 0.5833 - acc: 0.8129 - val_loss: 0.8423 - val_acc: 0.7134\n",
      "Epoch 31/50\n",
      "32/32 [==============================] - ETA: 0s - loss: 0.5152 - acc: 0.8447\n",
      "Epoch 31: val_loss did not improve from 0.84227\n",
      "32/32 [==============================] - 10s 302ms/step - loss: 0.5152 - acc: 0.8447 - val_loss: 0.8896 - val_acc: 0.6998\n",
      "Epoch 32/50\n",
      "32/32 [==============================] - ETA: 0s - loss: 0.5236 - acc: 0.8203\n",
      "Epoch 32: val_loss did not improve from 0.84227\n",
      "32/32 [==============================] - 8s 263ms/step - loss: 0.5236 - acc: 0.8203 - val_loss: 0.8834 - val_acc: 0.6967\n",
      "Epoch 33/50\n",
      "32/32 [==============================] - ETA: 0s - loss: 0.5221 - acc: 0.8076\n",
      "Epoch 33: val_loss improved from 0.84227 to 0.83220, saving model to models/model3_nobatchnorm\n",
      "INFO:tensorflow:Assets written to: models/model3_nobatchnorm/assets\n"
     ]
    },
    {
     "name": "stderr",
     "output_type": "stream",
     "text": [
      "INFO:tensorflow:Assets written to: models/model3_nobatchnorm/assets\n"
     ]
    },
    {
     "name": "stdout",
     "output_type": "stream",
     "text": [
      "32/32 [==============================] - 11s 348ms/step - loss: 0.5221 - acc: 0.8076 - val_loss: 0.8322 - val_acc: 0.7207\n",
      "Epoch 34/50\n",
      "32/32 [==============================] - ETA: 0s - loss: 0.4820 - acc: 0.8436\n",
      "Epoch 34: val_loss improved from 0.83220 to 0.80725, saving model to models/model3_nobatchnorm\n",
      "INFO:tensorflow:Assets written to: models/model3_nobatchnorm/assets\n"
     ]
    },
    {
     "name": "stderr",
     "output_type": "stream",
     "text": [
      "INFO:tensorflow:Assets written to: models/model3_nobatchnorm/assets\n"
     ]
    },
    {
     "name": "stdout",
     "output_type": "stream",
     "text": [
      "32/32 [==============================] - 10s 328ms/step - loss: 0.4820 - acc: 0.8436 - val_loss: 0.8073 - val_acc: 0.7490\n",
      "Epoch 35/50\n",
      "32/32 [==============================] - ETA: 0s - loss: 0.4442 - acc: 0.8584\n",
      "Epoch 35: val_loss did not improve from 0.80725\n",
      "32/32 [==============================] - 9s 285ms/step - loss: 0.4442 - acc: 0.8584 - val_loss: 0.8999 - val_acc: 0.6904\n",
      "Epoch 36/50\n",
      "32/32 [==============================] - ETA: 0s - loss: 0.5030 - acc: 0.8506\n",
      "Epoch 36: val_loss did not improve from 0.80725\n",
      "32/32 [==============================] - 8s 267ms/step - loss: 0.5030 - acc: 0.8506 - val_loss: 0.9143 - val_acc: 0.7134\n",
      "Epoch 37/50\n",
      "32/32 [==============================] - ETA: 0s - loss: 0.5003 - acc: 0.8057\n",
      "Epoch 37: val_loss did not improve from 0.80725\n",
      "32/32 [==============================] - 7s 233ms/step - loss: 0.5003 - acc: 0.8057 - val_loss: 0.8336 - val_acc: 0.7228\n",
      "Epoch 38/50\n",
      "32/32 [==============================] - ETA: 0s - loss: 0.4046 - acc: 0.8584\n",
      "Epoch 38: val_loss improved from 0.80725 to 0.78654, saving model to models/model3_nobatchnorm\n",
      "INFO:tensorflow:Assets written to: models/model3_nobatchnorm/assets\n"
     ]
    },
    {
     "name": "stderr",
     "output_type": "stream",
     "text": [
      "INFO:tensorflow:Assets written to: models/model3_nobatchnorm/assets\n"
     ]
    },
    {
     "name": "stdout",
     "output_type": "stream",
     "text": [
      "32/32 [==============================] - 10s 326ms/step - loss: 0.4046 - acc: 0.8584 - val_loss: 0.7865 - val_acc: 0.7490\n",
      "Epoch 39/50\n",
      "32/32 [==============================] - ETA: 0s - loss: 0.3681 - acc: 0.8760\n",
      "Epoch 39: val_loss did not improve from 0.78654\n",
      "32/32 [==============================] - 9s 299ms/step - loss: 0.3681 - acc: 0.8760 - val_loss: 0.8759 - val_acc: 0.7040\n",
      "Epoch 40/50\n",
      "32/32 [==============================] - ETA: 0s - loss: 0.4090 - acc: 0.8613\n",
      "Epoch 40: val_loss did not improve from 0.78654\n",
      "32/32 [==============================] - 8s 269ms/step - loss: 0.4090 - acc: 0.8613 - val_loss: 0.9243 - val_acc: 0.6851\n",
      "Epoch 41/50\n",
      "32/32 [==============================] - ETA: 0s - loss: 0.3667 - acc: 0.8644\n",
      "Epoch 41: val_loss improved from 0.78654 to 0.78521, saving model to models/model3_nobatchnorm\n",
      "INFO:tensorflow:Assets written to: models/model3_nobatchnorm/assets\n"
     ]
    },
    {
     "name": "stderr",
     "output_type": "stream",
     "text": [
      "INFO:tensorflow:Assets written to: models/model3_nobatchnorm/assets\n"
     ]
    },
    {
     "name": "stdout",
     "output_type": "stream",
     "text": [
      "32/32 [==============================] - 9s 287ms/step - loss: 0.3667 - acc: 0.8644 - val_loss: 0.7852 - val_acc: 0.7500\n",
      "Epoch 42/50\n",
      "32/32 [==============================] - ETA: 0s - loss: 0.3558 - acc: 0.8779\n",
      "Epoch 42: val_loss improved from 0.78521 to 0.75285, saving model to models/model3_nobatchnorm\n",
      "INFO:tensorflow:Assets written to: models/model3_nobatchnorm/assets\n"
     ]
    },
    {
     "name": "stderr",
     "output_type": "stream",
     "text": [
      "INFO:tensorflow:Assets written to: models/model3_nobatchnorm/assets\n"
     ]
    },
    {
     "name": "stdout",
     "output_type": "stream",
     "text": [
      "32/32 [==============================] - 10s 326ms/step - loss: 0.3558 - acc: 0.8779 - val_loss: 0.7529 - val_acc: 0.7615\n",
      "Epoch 43/50\n",
      "32/32 [==============================] - ETA: 0s - loss: 0.3098 - acc: 0.9043\n",
      "Epoch 43: val_loss did not improve from 0.75285\n",
      "32/32 [==============================] - 9s 297ms/step - loss: 0.3098 - acc: 0.9043 - val_loss: 0.8475 - val_acc: 0.7364\n",
      "Epoch 44/50\n",
      "32/32 [==============================] - ETA: 0s - loss: 0.3633 - acc: 0.8711\n",
      "Epoch 44: val_loss did not improve from 0.75285\n",
      "32/32 [==============================] - 9s 279ms/step - loss: 0.3633 - acc: 0.8711 - val_loss: 0.9056 - val_acc: 0.7155\n",
      "Epoch 45/50\n",
      "32/32 [==============================] - ETA: 0s - loss: 0.3080 - acc: 0.8960\n",
      "Epoch 45: val_loss did not improve from 0.75285\n",
      "32/32 [==============================] - 9s 270ms/step - loss: 0.3080 - acc: 0.8960 - val_loss: 0.8206 - val_acc: 0.7374\n",
      "Epoch 46/50\n",
      "32/32 [==============================] - ETA: 0s - loss: 0.2831 - acc: 0.9053\n",
      "Epoch 46: val_loss did not improve from 0.75285\n",
      "32/32 [==============================] - 9s 281ms/step - loss: 0.2831 - acc: 0.9053 - val_loss: 0.8987 - val_acc: 0.7218\n",
      "Epoch 47/50\n",
      "32/32 [==============================] - ETA: 0s - loss: 0.3025 - acc: 0.8975\n",
      "Epoch 47: val_loss did not improve from 0.75285\n",
      "32/32 [==============================] - 8s 256ms/step - loss: 0.3025 - acc: 0.8975 - val_loss: 0.8898 - val_acc: 0.7385\n",
      "Epoch 48/50\n",
      "32/32 [==============================] - ETA: 0s - loss: 0.2795 - acc: 0.9053\n",
      "Epoch 48: val_loss did not improve from 0.75285\n",
      "32/32 [==============================] - 8s 255ms/step - loss: 0.2795 - acc: 0.9053 - val_loss: 0.8974 - val_acc: 0.7144\n",
      "Epoch 49/50\n",
      "32/32 [==============================] - ETA: 0s - loss: 0.2299 - acc: 0.9228\n",
      "Epoch 49: val_loss did not improve from 0.75285\n",
      "32/32 [==============================] - 9s 279ms/step - loss: 0.2299 - acc: 0.9228 - val_loss: 0.8067 - val_acc: 0.7552\n",
      "Epoch 50/50\n",
      "32/32 [==============================] - ETA: 0s - loss: 0.2229 - acc: 0.9248\n",
      "Epoch 50: val_loss did not improve from 0.75285\n",
      "32/32 [==============================] - 9s 292ms/step - loss: 0.2229 - acc: 0.9248 - val_loss: 0.8626 - val_acc: 0.7458\n"
     ]
    }
   ],
   "source": [
    "# Dimensiones de entrada\n",
    "input_shape = (224, 224, 3)\n",
    "\n",
    "# Lanzar entrenamiento\n",
    "scratch_train(input_shape)"
   ]
  }
 ],
 "metadata": {
  "kernelspec": {
   "display_name": "Python 3 (ipykernel)",
   "language": "python",
   "name": "python3"
  },
  "language_info": {
   "codemirror_mode": {
    "name": "ipython",
    "version": 3
   },
   "file_extension": ".py",
   "mimetype": "text/x-python",
   "name": "python",
   "nbconvert_exporter": "python",
   "pygments_lexer": "ipython3",
   "version": "3.10.9"
  }
 },
 "nbformat": 4,
 "nbformat_minor": 2
}
